{
 "cells": [
  {
   "cell_type": "code",
   "execution_count": 10,
   "id": "39d521b1",
   "metadata": {},
   "outputs": [],
   "source": [
    "from dputils.scrape import Scraper, Tag\n",
    "from pprint import pp\n"
   ]
  },
  {
   "cell_type": "markdown",
   "id": "c61bac24",
   "metadata": {},
   "source": [
    "- Tag is a class which helps to decide what to collect from the page\n",
    "- Scraper executes the scraping process \n"
   ]
  },
  {
   "cell_type": "code",
   "execution_count": 11,
   "id": "c7a8decc",
   "metadata": {},
   "outputs": [],
   "source": [
    "url = \"https://www.flipkart.com/search?q=mobile%20phones&otracker=search&otracker1=search&marketplace=FLIPKART&as-show=on&as=off\""
   ]
  },
  {
   "cell_type": "code",
   "execution_count": 12,
   "id": "ead7cba3",
   "metadata": {},
   "outputs": [],
   "source": [
    "scraper = Scraper(url)"
   ]
  },
  {
   "cell_type": "code",
   "execution_count": null,
   "id": "60c5a8db",
   "metadata": {},
   "outputs": [],
   "source": [
    "result = scraper.get_repeating_date_from_page(\n",
    "    target = Tag('div', cls='DOjaWF gdgoEp'), \n",
    "    items = Tag('div', cls='_75nlfW'), \n",
    "    title = Tag('div', cls='KzDlHZ'),\n",
    "    price = Tag('div', cls='Nx9bqj _4b5DiR')\n",
    ")"
   ]
  },
  {
   "cell_type": "code",
   "execution_count": 15,
   "id": "82bd6f5e",
   "metadata": {},
   "outputs": [
    {
     "data": {
      "text/plain": [
       "[]"
      ]
     },
     "execution_count": 15,
     "metadata": {},
     "output_type": "execute_result"
    }
   ],
   "source": [
    "result"
   ]
  },
  {
   "cell_type": "code",
   "execution_count": null,
   "id": "ebf83c91",
   "metadata": {},
   "outputs": [],
   "source": []
  }
 ],
 "metadata": {
  "kernelspec": {
   "display_name": "base",
   "language": "python",
   "name": "python3"
  },
  "language_info": {
   "codemirror_mode": {
    "name": "ipython",
    "version": 3
   },
   "file_extension": ".py",
   "mimetype": "text/x-python",
   "name": "python",
   "nbconvert_exporter": "python",
   "pygments_lexer": "ipython3",
   "version": "3.13.2"
  }
 },
 "nbformat": 4,
 "nbformat_minor": 5
}
