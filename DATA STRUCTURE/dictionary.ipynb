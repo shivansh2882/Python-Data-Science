{
 "cells": [
  {
   "cell_type": "markdown",
   "id": "60f5b034",
   "metadata": {},
   "source": [
    "- how to create dictionary \n",
    "- how to acces pairs in dictionary\n",
    "- how to run a loop in dictionary\n",
    "- how to make a nested dictionary\n",
    "- indexcing in dictionary"
   ]
  },
  {
   "cell_type": "code",
   "execution_count": 3,
   "id": "36a4814d",
   "metadata": {},
   "outputs": [
    {
     "name": "stdout",
     "output_type": "stream",
     "text": [
      "{'name': 'alice', 'age': 20, 'course': 'bca', 'marks': 87}\n"
     ]
    }
   ],
   "source": [
    "student = {\n",
    "    \"name\" : \"alice\",\n",
    "    \"age\" : 20,\n",
    "    \"course\" : \"bca\",\n",
    "    \"marks\" : 87\n",
    "\n",
    "}\n",
    "print(student)"
   ]
  },
  {
   "cell_type": "code",
   "execution_count": 4,
   "id": "7e3bab04",
   "metadata": {},
   "outputs": [
    {
     "name": "stdout",
     "output_type": "stream",
     "text": [
      "{'name': 'alice', 'age': 20, 'course': 'mba', 'marks': 29}\n"
     ]
    }
   ],
   "source": [
    "info = dict(name = input(\"enter the name\"), age = 20, course = \"mba\", marks = 29)\n",
    "print(info)"
   ]
  },
  {
   "cell_type": "code",
   "execution_count": 6,
   "id": "299da153",
   "metadata": {},
   "outputs": [
    {
     "name": "stdout",
     "output_type": "stream",
     "text": [
      "{'lucknow': [30, 36, 48], 'delhi': [35, 45, 50], 'chennai': [28, 29, 30]}\n"
     ]
    }
   ],
   "source": [
    "temp = {\n",
    "    'lucknow':[30,36,48],\n",
    "    'delhi':[35,45,50],\n",
    "    'chennai':[28,29,30]\n",
    "\n",
    "}\n",
    "print(temp)"
   ]
  },
  {
   "cell_type": "code",
   "execution_count": 8,
   "id": "23497999",
   "metadata": {},
   "outputs": [
    {
     "data": {
      "text/plain": [
       "20"
      ]
     },
     "execution_count": 8,
     "metadata": {},
     "output_type": "execute_result"
    }
   ],
   "source": [
    "# 1st method to acces value through key\n",
    "info['name']\n",
    "info['age']"
   ]
  },
  {
   "cell_type": "code",
   "execution_count": 11,
   "id": "90ba7fe8",
   "metadata": {},
   "outputs": [
    {
     "data": {
      "text/plain": [
       "'mba'"
      ]
     },
     "execution_count": 11,
     "metadata": {},
     "output_type": "execute_result"
    }
   ],
   "source": [
    "# 2nd method \n",
    "info.get(\"name\")\n",
    "info.get(\"course\")"
   ]
  },
  {
   "cell_type": "code",
   "execution_count": 12,
   "id": "c423710f",
   "metadata": {},
   "outputs": [],
   "source": [
    "# adding new key and value pair in the dictionary\n",
    "info['city'] = \"lucknow\""
   ]
  },
  {
   "cell_type": "code",
   "execution_count": 13,
   "id": "8c6c1c00",
   "metadata": {},
   "outputs": [
    {
     "name": "stdout",
     "output_type": "stream",
     "text": [
      "{'name': 'alice', 'age': 20, 'course': 'mba', 'marks': 29, 'city': 'lucknow'}\n"
     ]
    }
   ],
   "source": [
    "print(info)"
   ]
  },
  {
   "cell_type": "code",
   "execution_count": null,
   "id": "686fd28c",
   "metadata": {},
   "outputs": [],
   "source": []
  }
 ],
 "metadata": {
  "kernelspec": {
   "display_name": "base",
   "language": "python",
   "name": "python3"
  },
  "language_info": {
   "codemirror_mode": {
    "name": "ipython",
    "version": 3
   },
   "file_extension": ".py",
   "mimetype": "text/x-python",
   "name": "python",
   "nbconvert_exporter": "python",
   "pygments_lexer": "ipython3",
   "version": "3.13.2"
  }
 },
 "nbformat": 4,
 "nbformat_minor": 5
}
