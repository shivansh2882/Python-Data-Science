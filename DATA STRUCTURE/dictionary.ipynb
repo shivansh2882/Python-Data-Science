{
 "cells": [
  {
   "cell_type": "markdown",
   "id": "60f5b034",
   "metadata": {},
   "source": [
    "- how to create dictionary \n",
    "- how to acces pairs in dictionary\n",
    "- how to run a loop in dictionary\n",
    "- how to make a nested dictionary\n",
    "- indexcing in dictionary"
   ]
  },
  {
   "cell_type": "code",
   "execution_count": 1,
   "id": "36a4814d",
   "metadata": {},
   "outputs": [
    {
     "name": "stdout",
     "output_type": "stream",
     "text": [
      "{'name': 'alice', 'age': 20, 'course': 'bca', 'marks': 87}\n"
     ]
    }
   ],
   "source": [
    "student = {\n",
    "    \"name\" : \"alice\",\n",
    "    \"age\" : 20,\n",
    "    \"course\" : \"bca\",\n",
    "    \"marks\" : 87\n",
    "\n",
    "}\n",
    "print(student)"
   ]
  },
  {
   "cell_type": "code",
   "execution_count": 2,
   "id": "7e3bab04",
   "metadata": {},
   "outputs": [
    {
     "name": "stdout",
     "output_type": "stream",
     "text": [
      "{'name': 'escape', 'age': 20, 'course': 'mba', 'marks': 29}\n"
     ]
    }
   ],
   "source": [
    "info = dict(name = input(\"enter the name\"), age = 20, course = \"mba\", marks = 29)\n",
    "print(info)"
   ]
  },
  {
   "cell_type": "code",
   "execution_count": 3,
   "id": "299da153",
   "metadata": {},
   "outputs": [
    {
     "name": "stdout",
     "output_type": "stream",
     "text": [
      "{'lucknow': [30, 36, 48], 'delhi': [35, 45, 50], 'chennai': [28, 29, 30]}\n"
     ]
    }
   ],
   "source": [
    "temp = {\n",
    "    'lucknow':[30,36,48],\n",
    "    'delhi':[35,45,50],\n",
    "    'chennai':[28,29,30]\n",
    "\n",
    "}\n",
    "print(temp)"
   ]
  },
  {
   "cell_type": "code",
   "execution_count": 17,
   "id": "23497999",
   "metadata": {},
   "outputs": [
    {
     "data": {
      "text/plain": [
       "20"
      ]
     },
     "execution_count": 17,
     "metadata": {},
     "output_type": "execute_result"
    }
   ],
   "source": [
    "# 1st method to acces value through key\n",
    "info['name']\n",
    "info['age']"
   ]
  },
  {
   "cell_type": "code",
   "execution_count": 5,
   "id": "90ba7fe8",
   "metadata": {},
   "outputs": [
    {
     "data": {
      "text/plain": [
       "'mba'"
      ]
     },
     "execution_count": 5,
     "metadata": {},
     "output_type": "execute_result"
    }
   ],
   "source": [
    "# 2nd method \n",
    "info.get(\"name\")\n",
    "info.get(\"course\")"
   ]
  },
  {
   "cell_type": "code",
   "execution_count": 6,
   "id": "c423710f",
   "metadata": {},
   "outputs": [],
   "source": [
    "# adding new key and value pair in the dictionary\n",
    "info['city'] = \"lucknow\""
   ]
  },
  {
   "cell_type": "code",
   "execution_count": 7,
   "id": "8c6c1c00",
   "metadata": {},
   "outputs": [
    {
     "name": "stdout",
     "output_type": "stream",
     "text": [
      "{'name': 'escape', 'age': 20, 'course': 'mba', 'marks': 29, 'city': 'lucknow'}\n"
     ]
    }
   ],
   "source": [
    "print(info)"
   ]
  },
  {
   "cell_type": "code",
   "execution_count": 8,
   "id": "686fd28c",
   "metadata": {},
   "outputs": [
    {
     "name": "stdout",
     "output_type": "stream",
     "text": [
      "name\n",
      "age\n",
      "course\n",
      "marks\n"
     ]
    }
   ],
   "source": [
    "for i in student:\n",
    "    print(i)"
   ]
  },
  {
   "cell_type": "code",
   "execution_count": 9,
   "id": "45fa0271",
   "metadata": {},
   "outputs": [
    {
     "name": "stdout",
     "output_type": "stream",
     "text": [
      "name : alice\n",
      "age : 20\n",
      "course : bca\n",
      "marks : 87\n"
     ]
    }
   ],
   "source": [
    "for i,j in student.items():\n",
    "    print(f'{i} : {j}')"
   ]
  },
  {
   "cell_type": "code",
   "execution_count": 10,
   "id": "2d80ebe1",
   "metadata": {},
   "outputs": [
    {
     "name": "stdout",
     "output_type": "stream",
     "text": [
      "dict_keys(['name', 'age', 'course', 'marks'])\n",
      "dict_values(['alice', 20, 'bca', 87])\n",
      "dict_items([('name', 'alice'), ('age', 20), ('course', 'bca'), ('marks', 87)])\n"
     ]
    }
   ],
   "source": [
    "print(student.keys())\n",
    "print(student.values())\n",
    "print(student.items())"
   ]
  },
  {
   "cell_type": "code",
   "execution_count": 11,
   "id": "94503290",
   "metadata": {},
   "outputs": [
    {
     "name": "stdout",
     "output_type": "stream",
     "text": [
      "{'emp001': {'name': 'alice', 'dept': 'finance', 'salary': 55000}, 'emp002': {'name': 'bob', 'dept': 'marketing', 'salary': 45000}, 'emp003': {'name': 'smith', 'dept': 'IT', 'SALARY': 60000}}\n"
     ]
    }
   ],
   "source": [
    "company = {\n",
    "    'emp001' : {\n",
    "        'name' : 'alice',\n",
    "        'dept' : 'finance',\n",
    "        'salary' : 55000\n",
    "    },\n",
    "    'emp002' : {\n",
    "        'name' : 'bob',\n",
    "        'dept' : 'marketing',\n",
    "        'salary' : 45000\n",
    "    },\n",
    "    'emp003' : {\n",
    "        'name': 'smith',\n",
    "        'dept' : 'IT',\n",
    "        'SALARY' : 60000\n",
    "    }\n",
    "}\n",
    "print(company)"
   ]
  },
  {
   "cell_type": "code",
   "execution_count": 12,
   "id": "70a45963",
   "metadata": {},
   "outputs": [],
   "source": [
    "from pprint import pprint"
   ]
  },
  {
   "cell_type": "code",
   "execution_count": 13,
   "id": "9595302e",
   "metadata": {},
   "outputs": [
    {
     "name": "stdout",
     "output_type": "stream",
     "text": [
      "{'emp001': {'dept': 'finance', 'name': 'alice', 'salary': 55000},\n",
      " 'emp002': {'dept': 'marketing', 'name': 'bob', 'salary': 45000},\n",
      " 'emp003': {'SALARY': 60000, 'dept': 'IT', 'name': 'smith'}}\n"
     ]
    }
   ],
   "source": [
    "pprint(company)"
   ]
  },
  {
   "cell_type": "code",
   "execution_count": 14,
   "id": "f1f8736f",
   "metadata": {},
   "outputs": [
    {
     "name": "stdout",
     "output_type": "stream",
     "text": [
      "{'eemp004': {'dept': 'sales', 'name': 'raghav', 'salary': 25000},\n",
      " 'emp001': {'dept': 'finance', 'name': 'alice', 'salary': 55000},\n",
      " 'emp002': {'dept': 'marketing', 'name': 'bob', 'salary': 45000},\n",
      " 'emp003': {'SALARY': 60000, 'dept': 'IT', 'name': 'smith'}}\n"
     ]
    }
   ],
   "source": [
    "company['eemp004'] = { 'name' : 'raghav', 'dept' : 'sales' , 'salary' : 25000}\n",
    "pprint(company)"
   ]
  },
  {
   "cell_type": "code",
   "execution_count": 15,
   "id": "8f8e9dfa",
   "metadata": {},
   "outputs": [
    {
     "data": {
      "text/plain": [
       "'marketing'"
      ]
     },
     "execution_count": 15,
     "metadata": {},
     "output_type": "execute_result"
    }
   ],
   "source": [
    "company['emp002']['dept']"
   ]
  },
  {
   "cell_type": "code",
   "execution_count": 16,
   "id": "369719d2",
   "metadata": {},
   "outputs": [
    {
     "name": "stdout",
     "output_type": "stream",
     "text": [
      "38.0\n"
     ]
    }
   ],
   "source": [
    "print(sum(temp['lucknow'])/len(temp['lucknow']))  \n"
   ]
  },
  {
   "cell_type": "code",
   "execution_count": null,
   "id": "33fbc67c",
   "metadata": {},
   "outputs": [],
   "source": []
  }
 ],
 "metadata": {
  "kernelspec": {
   "display_name": "base",
   "language": "python",
   "name": "python3"
  },
  "language_info": {
   "codemirror_mode": {
    "name": "ipython",
    "version": 3
   },
   "file_extension": ".py",
   "mimetype": "text/x-python",
   "name": "python",
   "nbconvert_exporter": "python",
   "pygments_lexer": "ipython3",
   "version": "3.13.2"
  }
 },
 "nbformat": 4,
 "nbformat_minor": 5
}
