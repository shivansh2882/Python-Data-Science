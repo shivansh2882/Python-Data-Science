{
 "cells": [
  {
   "cell_type": "code",
   "execution_count": 1,
   "id": "b12fde92",
   "metadata": {},
   "outputs": [
    {
     "name": "stdout",
     "output_type": "stream",
     "text": [
      "['facebook', 'instagram', 'twitter', 'whatsapp', 'pubg', 'free fire', 'youtube', 'tiktok', 'snapchat', 'gpay', 'phonepay', 'netflix', 'hotstar']\n"
     ]
    }
   ],
   "source": [
    "apps = ['facebook','instagram','twitter','whatsapp','pubg','free fire','youtube','tiktok','snapchat','gpay','phonepay','netflix','hotstar']\n",
    "print(apps)"
   ]
  },
  {
   "cell_type": "markdown",
   "id": "13d3f53d",
   "metadata": {},
   "source": [
    "- INDEXING & SLICING"
   ]
  },
  {
   "cell_type": "code",
   "execution_count": 3,
   "id": "6797af26",
   "metadata": {},
   "outputs": [
    {
     "name": "stdout",
     "output_type": "stream",
     "text": [
      "pubg\n",
      "youtube\n"
     ]
    }
   ],
   "source": [
    "print(apps[4])\n",
    "print(apps[6])"
   ]
  },
  {
   "cell_type": "code",
   "execution_count": 5,
   "id": "57f344d5",
   "metadata": {},
   "outputs": [
    {
     "name": "stdout",
     "output_type": "stream",
     "text": [
      "netflix\n",
      "free fire\n"
     ]
    }
   ],
   "source": [
    "print(apps[-2])\n",
    "print(apps[5])"
   ]
  },
  {
   "cell_type": "code",
   "execution_count": 8,
   "id": "96551c6b",
   "metadata": {},
   "outputs": [
    {
     "name": "stdout",
     "output_type": "stream",
     "text": [
      "['instagram', 'twitter', 'whatsapp', 'pubg']\n",
      "['instagram', 'whatsapp', 'free fire', 'tiktok']\n"
     ]
    }
   ],
   "source": [
    "print(apps[1:5])\n",
    "print(apps[1:9:2])"
   ]
  },
  {
   "cell_type": "code",
   "execution_count": 10,
   "id": "5db5f39f",
   "metadata": {},
   "outputs": [
    {
     "name": "stdout",
     "output_type": "stream",
     "text": [
      "['facebook', 'instagram', 'twitter', 'whatsapp', 'pubg', 'free fire', 'youtube', 'tiktok', 'snapchat', 'gpay', 'phonepay', 'netflix', 'hotstar']\n",
      "['facebook', 'twitter', 'pubg', 'youtube', 'snapchat', 'phonepay', 'hotstar']\n"
     ]
    }
   ],
   "source": [
    "print(apps[:])\n",
    "print(apps[::2])"
   ]
  },
  {
   "cell_type": "code",
   "execution_count": 11,
   "id": "9cc06e77",
   "metadata": {},
   "outputs": [
    {
     "name": "stdout",
     "output_type": "stream",
     "text": [
      "[]\n"
     ]
    }
   ],
   "source": [
    "print(apps[-1:-4])"
   ]
  },
  {
   "cell_type": "code",
   "execution_count": 12,
   "id": "90b07f30",
   "metadata": {},
   "outputs": [
    {
     "name": "stdout",
     "output_type": "stream",
     "text": [
      "['gpay', 'phonepay', 'netflix']\n"
     ]
    }
   ],
   "source": [
    "print(apps[-4:-1])"
   ]
  },
  {
   "cell_type": "markdown",
   "id": "958c16e9",
   "metadata": {},
   "source": [
    "- LIST METHOD"
   ]
  },
  {
   "cell_type": "markdown",
   "id": "e27f9e59",
   "metadata": {},
   "source": [
    "- append() - to add item at the end of the list\n",
    "\n",
    "- insert() - to add item at any specific position in the list\n",
    "\n",
    "- pop() - to delete item using its index position\n",
    "\n",
    "- remove() - to delete items using item name\n",
    "\n",
    "- copy() - to make a duplicate of the list\n",
    "\n",
    "- sort() - to sort the list in a particular order\n",
    "\n",
    "- extend() - to combine two list into a single list\n",
    "\n",
    "- clear() - to delete all the items from the list but not the list"
   ]
  },
  {
   "cell_type": "code",
   "execution_count": 13,
   "id": "386d8728",
   "metadata": {},
   "outputs": [
    {
     "name": "stdout",
     "output_type": "stream",
     "text": [
      "['facebook', 'instagram', 'twitter', 'whatsapp', 'pubg', 'free fire', 'youtube', 'tiktok', 'snapchat', 'gpay', 'phonepay', 'netflix', 'hotstar', 'ola']\n"
     ]
    }
   ],
   "source": [
    "apps.append('ola')\n",
    "print(apps)"
   ]
  },
  {
   "cell_type": "code",
   "execution_count": 14,
   "id": "65dead89",
   "metadata": {},
   "outputs": [
    {
     "name": "stdout",
     "output_type": "stream",
     "text": [
      "['facebook', 'instagram', 'twitter', 'uber', 'whatsapp', 'pubg', 'free fire', 'youtube', 'tiktok', 'snapchat', 'gpay', 'phonepay', 'netflix', 'hotstar', 'ola']\n"
     ]
    }
   ],
   "source": [
    "apps.insert(3,'uber')\n",
    "print(apps)"
   ]
  },
  {
   "cell_type": "code",
   "execution_count": 15,
   "id": "ce61a5d0",
   "metadata": {},
   "outputs": [
    {
     "name": "stdout",
     "output_type": "stream",
     "text": [
      "['facebook', 'instagram', 'uber', 'whatsapp', 'pubg', 'free fire', 'youtube', 'tiktok', 'snapchat', 'gpay', 'phonepay', 'netflix', 'hotstar', 'ola']\n"
     ]
    }
   ],
   "source": [
    "apps.pop(2)\n",
    "print(apps)"
   ]
  },
  {
   "cell_type": "code",
   "execution_count": 16,
   "id": "92e6c0f6",
   "metadata": {},
   "outputs": [
    {
     "name": "stdout",
     "output_type": "stream",
     "text": [
      "['facebook', 'instagram', 'uber', 'whatsapp', 'free fire', 'youtube', 'tiktok', 'snapchat', 'gpay', 'phonepay', 'netflix', 'hotstar', 'ola']\n"
     ]
    }
   ],
   "source": [
    "apps.remove('pubg')\n",
    "print(apps)"
   ]
  },
  {
   "cell_type": "code",
   "execution_count": 17,
   "id": "e55a1dfd",
   "metadata": {},
   "outputs": [
    {
     "name": "stdout",
     "output_type": "stream",
     "text": [
      "['facebook', 'instagram', 'uber', 'whatsapp', 'free fire', 'youtube', 'tiktok', 'snapchat', 'gpay', 'phonepay', 'netflix', 'hotstar', 'ola']\n"
     ]
    }
   ],
   "source": [
    "copy_apps = apps.copy()\n",
    "print(copy_apps)"
   ]
  },
  {
   "cell_type": "code",
   "execution_count": 18,
   "id": "bc17450f",
   "metadata": {},
   "outputs": [
    {
     "name": "stdout",
     "output_type": "stream",
     "text": [
      "[]\n"
     ]
    }
   ],
   "source": [
    "copy_apps.clear()\n",
    "print(copy_apps)"
   ]
  },
  {
   "cell_type": "code",
   "execution_count": 19,
   "id": "c6e57b85",
   "metadata": {},
   "outputs": [
    {
     "name": "stdout",
     "output_type": "stream",
     "text": [
      "['facebook', 'free fire', 'gpay', 'hotstar', 'instagram', 'netflix', 'ola', 'phonepay', 'snapchat', 'tiktok', 'uber', 'whatsapp', 'youtube']\n"
     ]
    }
   ],
   "source": [
    "apps.sort()\n",
    "print(apps)"
   ]
  },
  {
   "cell_type": "code",
   "execution_count": 20,
   "id": "3f493caa",
   "metadata": {},
   "outputs": [],
   "source": [
    "apps2 = ['google','telegram','chrome']\n",
    "apps.extend(apps2)"
   ]
  },
  {
   "cell_type": "code",
   "execution_count": 22,
   "id": "fa1e179e",
   "metadata": {},
   "outputs": [
    {
     "name": "stdout",
     "output_type": "stream",
     "text": [
      "['facebook', 'free fire', 'gpay', 'hotstar', 'instagram', 'netflix', 'ola', 'phonepay', 'snapchat', 'tiktok', 'uber', 'whatsapp', 'youtube', 'google', 'telegram', 'chrome', 'google', 'telegram', 'chrome', 'google', 'telegram', 'chrome']\n"
     ]
    }
   ],
   "source": [
    "apps.extend(apps2)\n",
    "print(apps)"
   ]
  },
  {
   "cell_type": "code",
   "execution_count": 26,
   "id": "1e754d78",
   "metadata": {},
   "outputs": [
    {
     "name": "stdout",
     "output_type": "stream",
     "text": [
      "['facebook', 'free fire', 'gpay', 'hotstar', 'instagram', 'netflix', 'ola', 'phonepay', 'snapchat', 'tiktok', 'uber', 'whatsapp', 'youtube', 'google', 'telegram', 'chrome', 'google', 'telegram', 'chrome', 'google', 'telegram', 'chrome', 'google', 'telegram', 'chrome', 'google', 'telegram', 'chrome']\n"
     ]
    }
   ],
   "source": [
    "apps2.extend(apps2)\n",
    "print(apps)"
   ]
  },
  {
   "cell_type": "code",
   "execution_count": null,
   "id": "b07ad412",
   "metadata": {},
   "outputs": [],
   "source": []
  }
 ],
 "metadata": {
  "kernelspec": {
   "display_name": "base",
   "language": "python",
   "name": "python3"
  },
  "language_info": {
   "codemirror_mode": {
    "name": "ipython",
    "version": 3
   },
   "file_extension": ".py",
   "mimetype": "text/x-python",
   "name": "python",
   "nbconvert_exporter": "python",
   "pygments_lexer": "ipython3",
   "version": "3.13.2"
  }
 },
 "nbformat": 4,
 "nbformat_minor": 5
}
