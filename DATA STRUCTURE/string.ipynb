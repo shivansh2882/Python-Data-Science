{
 "cells": [
  {
   "cell_type": "code",
   "execution_count": 1,
   "id": "d6d87d08",
   "metadata": {},
   "outputs": [
    {
     "name": "stdout",
     "output_type": "stream",
     "text": [
      "my name is alice\n"
     ]
    }
   ],
   "source": [
    "name = \"my name is alice\"\n",
    "print(name)"
   ]
  },
  {
   "cell_type": "code",
   "execution_count": 2,
   "id": "1f6574c3",
   "metadata": {},
   "outputs": [
    {
     "name": "stdout",
     "output_type": "stream",
     "text": [
      "my name is alice"
     ]
    }
   ],
   "source": [
    "for i in name:\n",
    "    print(i, end='')\n",
    "    \n"
   ]
  },
  {
   "cell_type": "code",
   "execution_count": 4,
   "id": "44db50d9",
   "metadata": {},
   "outputs": [
    {
     "name": "stdout",
     "output_type": "stream",
     "text": [
      "alice\n",
      "alice\n"
     ]
    }
   ],
   "source": [
    "print(name[11:16])\n",
    "print(name[11:])"
   ]
  },
  {
   "cell_type": "code",
   "execution_count": null,
   "id": "6c675348",
   "metadata": {},
   "outputs": [
    {
     "name": "stdout",
     "output_type": "stream",
     "text": [
      "2030\n"
     ]
    }
   ],
   "source": [
    "# string concatenation\n",
    "a = '20'\n",
    "b = '30'\n",
    "print(a+b)"
   ]
  },
  {
   "cell_type": "code",
   "execution_count": 7,
   "id": "49a9f7af",
   "metadata": {},
   "outputs": [
    {
     "name": "stdout",
     "output_type": "stream",
     "text": [
      "hihihihihi\n"
     ]
    }
   ],
   "source": [
    "# string duplication\n",
    "a = 'hi'\n",
    "print(a*5)"
   ]
  },
  {
   "cell_type": "code",
   "execution_count": 8,
   "id": "f47b9fbd",
   "metadata": {},
   "outputs": [
    {
     "data": {
      "text/plain": [
       "'BEAUTIFUL'"
      ]
     },
     "execution_count": 8,
     "metadata": {},
     "output_type": "execute_result"
    }
   ],
   "source": [
    "word = 'beautiful'\n",
    "word.upper()\n"
   ]
  },
  {
   "cell_type": "code",
   "execution_count": 9,
   "id": "7cea49cf",
   "metadata": {},
   "outputs": [
    {
     "data": {
      "text/plain": [
       "'beautiful'"
      ]
     },
     "execution_count": 9,
     "metadata": {},
     "output_type": "execute_result"
    }
   ],
   "source": [
    "word.lower()"
   ]
  },
  {
   "cell_type": "code",
   "execution_count": 10,
   "id": "f2e3365e",
   "metadata": {},
   "outputs": [
    {
     "data": {
      "text/plain": [
       "'Beautiful'"
      ]
     },
     "execution_count": 10,
     "metadata": {},
     "output_type": "execute_result"
    }
   ],
   "source": [
    "word.capitalize()"
   ]
  },
  {
   "cell_type": "code",
   "execution_count": 11,
   "id": "7cdacee4",
   "metadata": {},
   "outputs": [
    {
     "name": "stdout",
     "output_type": "stream",
     "text": [
      "johny johny yes papa \n",
      "eating sugar no papa\n",
      "telling a lie no papa\n",
      "open your mouth hahaha\n"
     ]
    }
   ],
   "source": [
    "poem = '''johny johny yes papa \n",
    "eating sugar no papa\n",
    "telling a lie no papa\n",
    "open your mouth hahaha'''\n",
    "print(poem)"
   ]
  },
  {
   "cell_type": "code",
   "execution_count": 12,
   "id": "763e6d85",
   "metadata": {},
   "outputs": [
    {
     "data": {
      "text/plain": [
       "16"
      ]
     },
     "execution_count": 12,
     "metadata": {},
     "output_type": "execute_result"
    }
   ],
   "source": [
    "poem.find('papa')"
   ]
  },
  {
   "cell_type": "code",
   "execution_count": 15,
   "id": "d7ef39a0",
   "metadata": {},
   "outputs": [
    {
     "name": "stdout",
     "output_type": "stream",
     "text": [
      "johny johny yes fufa \n",
      "eating poison no fufa\n",
      "telling a lie no fufa\n",
      "open your mouth hahaha\n"
     ]
    }
   ],
   "source": [
    "p = poem.replace('papa','fufa').replace('sugar','poison')\n",
    "print(p)"
   ]
  },
  {
   "cell_type": "code",
   "execution_count": 16,
   "id": "38dca0b2",
   "metadata": {},
   "outputs": [
    {
     "name": "stdout",
     "output_type": "stream",
     "text": [
      "my name is alice\n"
     ]
    }
   ],
   "source": [
    "print(name)"
   ]
  },
  {
   "cell_type": "code",
   "execution_count": 17,
   "id": "6991db63",
   "metadata": {},
   "outputs": [
    {
     "data": {
      "text/plain": [
       "['my', 'name', 'is', 'alice']"
      ]
     },
     "execution_count": 17,
     "metadata": {},
     "output_type": "execute_result"
    }
   ],
   "source": [
    "name.split()"
   ]
  },
  {
   "cell_type": "code",
   "execution_count": 18,
   "id": "fec7de8b",
   "metadata": {},
   "outputs": [
    {
     "data": {
      "text/plain": [
       "['johny johny yes fufa ',\n",
       " 'eating poison no fufa',\n",
       " 'telling a lie no fufa',\n",
       " 'open your mouth hahaha']"
      ]
     },
     "execution_count": 18,
     "metadata": {},
     "output_type": "execute_result"
    }
   ],
   "source": [
    "p.splitlines()"
   ]
  },
  {
   "cell_type": "code",
   "execution_count": null,
   "id": "a8a89cc2",
   "metadata": {},
   "outputs": [],
   "source": []
  }
 ],
 "metadata": {
  "kernelspec": {
   "display_name": "base",
   "language": "python",
   "name": "python3"
  },
  "language_info": {
   "codemirror_mode": {
    "name": "ipython",
    "version": 3
   },
   "file_extension": ".py",
   "mimetype": "text/x-python",
   "name": "python",
   "nbconvert_exporter": "python",
   "pygments_lexer": "ipython3",
   "version": "3.13.2"
  }
 },
 "nbformat": 4,
 "nbformat_minor": 5
}
