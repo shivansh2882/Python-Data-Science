{
 "cells": [
  {
   "cell_type": "markdown",
   "id": "4df53c28",
   "metadata": {},
   "source": [
    "- Write a program to count the frequency of each character in a given string using a dictionary.\n",
    "\n"
   ]
  },
  {
   "cell_type": "code",
   "execution_count": null,
   "id": "bf07e174",
   "metadata": {},
   "outputs": [],
   "source": []
  },
  {
   "cell_type": "markdown",
   "id": "c201733b",
   "metadata": {},
   "source": [
    "- Write a program to merge two dictionaries into a single dictionary.\n",
    "\n",
    "Sample data:\n",
    "dict1 = {\"a\": 1, \"b\": 2}\n",
    "dict2 = {\"c\": 3, \"d\": 4}"
   ]
  },
  {
   "cell_type": "code",
   "execution_count": 1,
   "id": "ddf1f462",
   "metadata": {},
   "outputs": [
    {
     "name": "stdout",
     "output_type": "stream",
     "text": [
      "merged dictionary: {'a': 1, 'b': 2, 'c': 3, 'd': 4}\n"
     ]
    }
   ],
   "source": [
    "dict1 = {\"a\":1,\"b\":2}\n",
    "dict2 = {\"c\":3,\"d\":4}\n",
    "merge_dict = dict1.copy()\n",
    "merge_dict.update(dict2)\n",
    "print(\"merged dictionary:\", merge_dict)\n",
    "\n"
   ]
  },
  {
   "cell_type": "markdown",
   "id": "8ee985d7",
   "metadata": {},
   "source": [
    "- Write a program to find the keys with the maximum value in a dictionary.\n",
    "\n",
    "Sample data: {\"a\": 10, \"b\": 5, \"c\": 10}"
   ]
  },
  {
   "cell_type": "code",
   "execution_count": 4,
   "id": "a7dcbfee",
   "metadata": {},
   "outputs": [
    {
     "name": "stdout",
     "output_type": "stream",
     "text": [
      "max value is: c\n"
     ]
    }
   ],
   "source": [
    "dict = {\"a\":15,\"b\":5,\"c\":1}\n",
    "max_value = max(dict)\n",
    "\n",
    "print(\"max value is:\", max_value )                              "
   ]
  },
  {
   "cell_type": "markdown",
   "id": "614cfa11",
   "metadata": {},
   "source": [
    "Write a program to check if a given key exists in a dictionary.\n",
    "\n",
    "Sample data: {\"a\": 1, \"b\": 2, \"c\": 3}\n"
   ]
  },
  {
   "cell_type": "code",
   "execution_count": null,
   "id": "2fbffa3a",
   "metadata": {},
   "outputs": [],
   "source": []
  },
  {
   "cell_type": "markdown",
   "id": "aa3ec216",
   "metadata": {},
   "source": [
    "- Write a program to remove a specific key from a dictionary.\n",
    "\n",
    "Sample data: {\"a\": 1, \"b\": 2, \"c\": 3}\n"
   ]
  },
  {
   "cell_type": "code",
   "execution_count": 6,
   "id": "1bfa5d1b",
   "metadata": {},
   "outputs": [
    {
     "name": "stdout",
     "output_type": "stream",
     "text": [
      "2\n"
     ]
    }
   ],
   "source": [
    "data = {\"a\":1,\"b\":2,\"c\":3 }\n",
    "remove = data.pop(\"b\")\n",
    "print(remove)"
   ]
  },
  {
   "cell_type": "markdown",
   "id": "29005a5b",
   "metadata": {},
   "source": [
    "- Write a program to find the common keys in two dictionaries.\n",
    "\n",
    "Sample data:\n",
    "dict1 = {\"a\": 1, \"b\": 2, \"c\": 3}\n",
    "dict2 = {\"b\": 3, \"c\": 4, \"d\": 5}\n"
   ]
  },
  {
   "cell_type": "code",
   "execution_count": 16,
   "id": "4b5fcc32",
   "metadata": {},
   "outputs": [
    {
     "name": "stdout",
     "output_type": "stream",
     "text": [
      "common keys are: {'b', 'c'}\n"
     ]
    }
   ],
   "source": [
    "dict1 = {\"a\":1,\"b\":2,\"c\":3}\n",
    "dict2 = {\"b\":3,\"c\":4,\"d\":5}\n",
    "\n",
    "common_keys = dict1.keys() & dict2.keys()\n",
    "print(\"common keys are:\", common_keys)\n"
   ]
  },
  {
   "cell_type": "markdown",
   "id": "24b8b89a",
   "metadata": {},
   "source": [
    "- Write a program to get the length of a dictionary.\n",
    "\n",
    "Sample data: {\"a\": 1, \"b\": 2, \"c\": 3}\n"
   ]
  },
  {
   "cell_type": "code",
   "execution_count": 19,
   "id": "9b0aa6ce",
   "metadata": {},
   "outputs": [
    {
     "name": "stdout",
     "output_type": "stream",
     "text": [
      "lenth of the data: 3\n"
     ]
    }
   ],
   "source": [
    "data =  {\"a\":1,\"b\":2,\"c\":3}\n",
    "lenth = len(data)\n",
    "print(\"lenth of the data:\",lenth)"
   ]
  },
  {
   "cell_type": "markdown",
   "id": "db2fa06a",
   "metadata": {},
   "source": [
    "Write a program to sort a dictionary by its keys in ascending order.\n",
    "\n",
    "Sample data: {\"b\": 2, \"a\": 1, \"c\": 3}"
   ]
  },
  {
   "cell_type": "code",
   "execution_count": null,
   "id": "a48acd07",
   "metadata": {},
   "outputs": [
    {
     "name": "stdout",
     "output_type": "stream",
     "text": [
      "['a', 'b', 'c']\n"
     ]
    }
   ],
   "source": [
    "data = {\"b\":2,\"a\":1,\"c\":3}\n",
    "sort_data = sorted(data)\n",
    "print(sort_data)"
   ]
  },
  {
   "cell_type": "markdown",
   "id": "d0b2567c",
   "metadata": {},
   "source": [
    "- Write a program to find the key with the minimum value in a dictionary.\n",
    "\n",
    "Sample data: {\"a\": 10, \"b\": 5, \"c\": 15}"
   ]
  },
  {
   "cell_type": "code",
   "execution_count": null,
   "id": "90b82711",
   "metadata": {},
   "outputs": [
    {
     "name": "stdout",
     "output_type": "stream",
     "text": [
      "a\n"
     ]
    }
   ],
   "source": [
    "data = {\"a\":10,\"b\":5,\"c\":15}\n",
    "min_value = min(data)\n",
    "print(min_value)"
   ]
  },
  {
   "cell_type": "code",
   "execution_count": null,
   "id": "bb7a2a23",
   "metadata": {},
   "outputs": [],
   "source": []
  }
 ],
 "metadata": {
  "kernelspec": {
   "display_name": "base",
   "language": "python",
   "name": "python3"
  },
  "language_info": {
   "codemirror_mode": {
    "name": "ipython",
    "version": 3
   },
   "file_extension": ".py",
   "mimetype": "text/x-python",
   "name": "python",
   "nbconvert_exporter": "python",
   "pygments_lexer": "ipython3",
   "version": "3.13.2"
  }
 },
 "nbformat": 4,
 "nbformat_minor": 5
}
