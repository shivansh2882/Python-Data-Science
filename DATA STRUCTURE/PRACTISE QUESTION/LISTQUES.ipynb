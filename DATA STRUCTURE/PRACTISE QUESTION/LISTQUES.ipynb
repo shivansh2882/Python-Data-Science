{
 "cells": [
  {
   "cell_type": "markdown",
   "id": "cff73e43",
   "metadata": {},
   "source": [
    "- Write a program that creates an empty list and then asks the user to input integers to add to the list. Print the final list."
   ]
  },
  {
   "cell_type": "code",
   "execution_count": 8,
   "id": "fe690d70",
   "metadata": {},
   "outputs": [
    {
     "name": "stdout",
     "output_type": "stream",
     "text": [
      "[98]\n"
     ]
    }
   ],
   "source": [
    "a = [int(input(\"enetr the number\"))]\n",
    "print(a)\n"
   ]
  },
  {
   "cell_type": "markdown",
   "id": "2890a4da",
   "metadata": {},
   "source": [
    "- Write a program that creates a list of integers and then asks the user to input an integer to check if it exists in the list. Print a message indicating whether the integer is in the list or not.\n"
   ]
  },
  {
   "cell_type": "code",
   "execution_count": 10,
   "id": "1bbab656",
   "metadata": {},
   "outputs": [
    {
     "name": "stdout",
     "output_type": "stream",
     "text": [
      "integer\n"
     ]
    }
   ],
   "source": [
    "a =  [0,1,2,-8,-9,32,23,65,76,4,6,-87]\n",
    "b = int(input(\"enter the number\"))\n",
    "if b in a:\n",
    "    print(\"integer\")\n",
    "else:\n",
    "    print(\"not integer\")"
   ]
  },
  {
   "cell_type": "markdown",
   "id": "f49d5178",
   "metadata": {},
   "source": [
    "- Write a program that creates a list of strings and then sorts the list alphabetically. Print the sorted list.\n"
   ]
  },
  {
   "cell_type": "code",
   "execution_count": 5,
   "id": "df312cbe",
   "metadata": {},
   "outputs": [
    {
     "name": "stdout",
     "output_type": "stream",
     "text": [
      "['apple', 'hitachi', 'lenovo', 'lg', 'miwi', 'samsung', 'sony', 'tcl', 'whirpool']\n"
     ]
    }
   ],
   "source": [
    "company = ['samsung','miwi','tcl','sony','hitachi','lg','whirpool','apple','lenovo', ]\n",
    "company.sort()\n",
    "print(company)\n",
    "\n",
    "\n"
   ]
  },
  {
   "cell_type": "markdown",
   "id": "23747fb9",
   "metadata": {},
   "source": [
    "- Write a program that creates a list of integers and then finds the maximum value in the list. Print the maximum value.\n"
   ]
  },
  {
   "cell_type": "code",
   "execution_count": 12,
   "id": "d9fc6f5b",
   "metadata": {},
   "outputs": [
    {
     "name": "stdout",
     "output_type": "stream",
     "text": [
      "the maximum value is 98\n"
     ]
    }
   ],
   "source": [
    "numbers = [1,3,4,6,88,97,98,56,84,34,-98,21,34,16,0]\n",
    "max_value = max(numbers)\n",
    "print(\"the maximum value is\", max_value)"
   ]
  },
  {
   "cell_type": "markdown",
   "id": "a84063cf",
   "metadata": {},
   "source": [
    "- Write a program that creates two lists of integers and then finds the common elements between those two lists. Print the common elements.\n"
   ]
  },
  {
   "cell_type": "code",
   "execution_count": 17,
   "id": "05249855",
   "metadata": {},
   "outputs": [
    {
     "name": "stdout",
     "output_type": "stream",
     "text": [
      "common elements os list are [0, 1, 4, 5, 9]\n"
     ]
    }
   ],
   "source": [
    "a = [1,3,4,5,7,9,8,0]\n",
    "b = [2,4,5,6,9,0,1,21,]\n",
    "common_elements = list(set(a) & set(b))\n",
    "print(\"common elements os list are\",common_elements)\n",
    "\n"
   ]
  },
  {
   "cell_type": "markdown",
   "id": "34c56603",
   "metadata": {},
   "source": [
    "- Write a program that creates a list of strings and then removes all elements that contain a specific substring. Print the final list.\n"
   ]
  },
  {
   "cell_type": "code",
   "execution_count": 18,
   "id": "b580ea56",
   "metadata": {},
   "outputs": [],
   "source": [
    "list = ['john','alex','mark','tom','juhi','toe','shipra']"
   ]
  },
  {
   "cell_type": "markdown",
   "id": "0aa618dc",
   "metadata": {},
   "source": [
    "- Write a program that creates a nested list and then accesses a specific element in the list. Print the accessed elements."
   ]
  },
  {
   "cell_type": "code",
   "execution_count": 24,
   "id": "5c2fbc60",
   "metadata": {},
   "outputs": [
    {
     "name": "stdout",
     "output_type": "stream",
     "text": [
      "accessed element is mayank\n"
     ]
    }
   ],
   "source": [
    "nested_list = [\n",
    "    ['aplle','banana','cherry','mango','blue berry'],\n",
    "    ['hyundai','BMW','maruti','tesla','honda'],\n",
    "    ['john','alex','bheem','vivek','mayank']\n",
    "]\n",
    "element = nested_list[2][4]\n",
    "print(\"accessed element is\", element)"
   ]
  },
  {
   "cell_type": "markdown",
   "id": "137ba545",
   "metadata": {},
   "source": [
    "- Write a program that creates a list of integers and then removes all duplicates from the list. Print the final list.\n"
   ]
  },
  {
   "cell_type": "code",
   "execution_count": null,
   "id": "18dff3dd",
   "metadata": {},
   "outputs": [],
   "source": [
    "numbers = [1,4,6,77,80,0,99,2,5,53,1,7,98]\n"
   ]
  },
  {
   "cell_type": "markdown",
   "id": "903808a2",
   "metadata": {},
   "source": [
    "- Write a program that creates a list of strings and then finds the longest string in the list. Print the longest string.\n"
   ]
  },
  {
   "cell_type": "code",
   "execution_count": null,
   "id": "141186bc",
   "metadata": {},
   "outputs": [],
   "source": []
  },
  {
   "cell_type": "markdown",
   "id": "3c620511",
   "metadata": {},
   "source": [
    "- Write a program that creates a list of integers and then finds the sum of all the even numbers in the list. Print the sum.\n"
   ]
  },
  {
   "cell_type": "code",
   "execution_count": null,
   "id": "bce12384",
   "metadata": {},
   "outputs": [],
   "source": [
    "numbers = [1,2,3,4,5,6,7,8,0,76,54,45]\n",
    "\n"
   ]
  },
  {
   "cell_type": "markdown",
   "id": "2cb020b4",
   "metadata": {},
   "source": []
  }
 ],
 "metadata": {
  "kernelspec": {
   "display_name": "base",
   "language": "python",
   "name": "python3"
  },
  "language_info": {
   "codemirror_mode": {
    "name": "ipython",
    "version": 3
   },
   "file_extension": ".py",
   "mimetype": "text/x-python",
   "name": "python",
   "nbconvert_exporter": "python",
   "pygments_lexer": "ipython3",
   "version": "3.13.2"
  }
 },
 "nbformat": 4,
 "nbformat_minor": 5
}
