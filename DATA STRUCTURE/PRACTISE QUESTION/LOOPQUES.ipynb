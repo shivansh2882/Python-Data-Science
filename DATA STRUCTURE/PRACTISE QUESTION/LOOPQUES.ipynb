{
 "cells": [
  {
   "cell_type": "markdown",
   "id": "02e43689",
   "metadata": {},
   "source": [
    "- Write a program to print numbers from 1 to 10 using a for loop.\n"
   ]
  },
  {
   "cell_type": "code",
   "execution_count": 2,
   "id": "09d6638c",
   "metadata": {},
   "outputs": [
    {
     "name": "stdout",
     "output_type": "stream",
     "text": [
      "1\n",
      "2\n",
      "3\n",
      "4\n",
      "5\n",
      "6\n",
      "7\n",
      "8\n",
      "9\n",
      "10\n"
     ]
    }
   ],
   "source": [
    "for i in range(1,11):\n",
    "    print(i)"
   ]
  },
  {
   "cell_type": "markdown",
   "id": "446a6f34",
   "metadata": {},
   "source": [
    "- Write a program to print the multiplication table of a given number using a while loop.\n"
   ]
  },
  {
   "cell_type": "code",
   "execution_count": null,
   "id": "ff8dbde0",
   "metadata": {},
   "outputs": [],
   "source": []
  },
  {
   "cell_type": "markdown",
   "id": "6da92d4f",
   "metadata": {},
   "source": [
    "- Write a program to find the sum of all even numbers between 1 and 100 using a for loop.\n"
   ]
  },
  {
   "cell_type": "code",
   "execution_count": 24,
   "id": "4436fdb7",
   "metadata": {},
   "outputs": [
    {
     "ename": "_IncompleteInputError",
     "evalue": "incomplete input (626764715.py, line 5)",
     "output_type": "error",
     "traceback": [
      "  \u001b[36mCell\u001b[39m\u001b[36m \u001b[39m\u001b[32mIn[24]\u001b[39m\u001b[32m, line 5\u001b[39m\n\u001b[31m    \u001b[39m\n    ^\n\u001b[31m_IncompleteInputError\u001b[39m\u001b[31m:\u001b[39m incomplete input\n"
     ]
    }
   ],
   "source": [
    "sum_even = 0\n",
    "\n",
    "\n",
    "for i in range(2, 101, 2):\n",
    "    \n"
   ]
  },
  {
   "cell_type": "markdown",
   "id": "db5b31cb",
   "metadata": {},
   "source": [
    "- Write a program to check if a given number is prime or not using a while loop.\n"
   ]
  },
  {
   "cell_type": "code",
   "execution_count": null,
   "id": "f2211cf6",
   "metadata": {},
   "outputs": [],
   "source": []
  },
  {
   "cell_type": "markdown",
   "id": "39544f54",
   "metadata": {},
   "source": [
    "- Write a program to calculate the factorial of a number using a for loop.\n",
    "\n"
   ]
  },
  {
   "cell_type": "code",
   "execution_count": 32,
   "id": "09a35d99",
   "metadata": {},
   "outputs": [
    {
     "name": "stdout",
     "output_type": "stream",
     "text": [
      "factorial of 9 is 362880\n"
     ]
    }
   ],
   "source": [
    "num = int(input(\"enter the number:\"))\n",
    "\n",
    "factorial = 1\n",
    "\n",
    "if num < 0:\n",
    "    print(\"factorial of negetive number does not exits.\")\n",
    "elif num == 0:\n",
    "    print(\"factorial of 0 is 1:\")\n",
    "else:\n",
    "    for i in range(1, num+1):\n",
    "        factorial *= i\n",
    "    print(f'factorial of {num} is {factorial}')"
   ]
  },
  {
   "cell_type": "markdown",
   "id": "f5e895a7",
   "metadata": {},
   "source": [
    "- Write a program to print the Fibonacci series up to a given limit using a for loop.\n"
   ]
  },
  {
   "cell_type": "code",
   "execution_count": null,
   "id": "a6e7d923",
   "metadata": {},
   "outputs": [],
   "source": []
  },
  {
   "cell_type": "markdown",
   "id": "1328a2bf",
   "metadata": {},
   "source": [
    "- Write a program to find the largest element in an array using a for loop.\n"
   ]
  },
  {
   "cell_type": "markdown",
   "id": "1e79df13",
   "metadata": {},
   "source": []
  }
 ],
 "metadata": {
  "kernelspec": {
   "display_name": "base",
   "language": "python",
   "name": "python3"
  },
  "language_info": {
   "codemirror_mode": {
    "name": "ipython",
    "version": 3
   },
   "file_extension": ".py",
   "mimetype": "text/x-python",
   "name": "python",
   "nbconvert_exporter": "python",
   "pygments_lexer": "ipython3",
   "version": "3.13.2"
  }
 },
 "nbformat": 4,
 "nbformat_minor": 5
}
