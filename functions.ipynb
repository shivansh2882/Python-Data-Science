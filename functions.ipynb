{
 "cells": [
  {
   "cell_type": "markdown",
   "id": "cb35368e",
   "metadata": {},
   "source": [
    "- USER DEFINED FUNCTION\n",
    " - parameterized fuction\n",
    " - non parametrized function\n",
    " - retun function\n",
    " - non return function\n",
    " - default parameterized function\n",
    " - lambda function\n"
   ]
  },
  {
   "cell_type": "markdown",
   "id": "01f75ce8",
   "metadata": {},
   "source": [
    "- built in function"
   ]
  },
  {
   "cell_type": "code",
   "execution_count": 11,
   "id": "7b220137",
   "metadata": {},
   "outputs": [
    {
     "name": "stdout",
     "output_type": "stream",
     "text": [
      "i am good thankyou\n"
     ]
    }
   ],
   "source": [
    "# non parametrized func\n",
    "def greet (): # function initialize\n",
    "    print(\"hello\")\n",
    "    print(\"how are you\")\n",
    "print(\"i am good thankyou\")"
   ]
  },
  {
   "cell_type": "code",
   "execution_count": 5,
   "id": "ea5f9b02",
   "metadata": {},
   "outputs": [
    {
     "name": "stdout",
     "output_type": "stream",
     "text": [
      "hello\n",
      "how are you\n",
      "i am good thankyou\n"
     ]
    }
   ],
   "source": [
    "greet() # function calling"
   ]
  },
  {
   "cell_type": "code",
   "execution_count": 6,
   "id": "f370916b",
   "metadata": {},
   "outputs": [
    {
     "name": "stdout",
     "output_type": "stream",
     "text": [
      "hello\n",
      "how are you\n",
      "i am good thankyou\n"
     ]
    }
   ],
   "source": [
    "greet()"
   ]
  },
  {
   "cell_type": "code",
   "execution_count": 12,
   "id": "d9bf4458",
   "metadata": {},
   "outputs": [
    {
     "name": "stdout",
     "output_type": "stream",
     "text": [
      "12\n"
     ]
    }
   ],
   "source": [
    "def sum(a,b): #paramters\n",
    "    print(a+b)\n",
    "\n",
    "sum(5,7)  #arguments"
   ]
  },
  {
   "cell_type": "code",
   "execution_count": 15,
   "id": "b3ad9fc2",
   "metadata": {},
   "outputs": [
    {
     "name": "stdout",
     "output_type": "stream",
     "text": [
      "elligble\n"
     ]
    }
   ],
   "source": [
    "# check whether a person is eligble for vote or not using \n",
    "\n",
    "def age(age):\n",
    "    if age>=18:\n",
    "        print(\"elligble\")\n",
    "    else:\n",
    "        print(\"not\")\n",
    "\n",
    "\n",
    "age(34)"
   ]
  },
  {
   "cell_type": "code",
   "execution_count": 17,
   "id": "03a7e2bb",
   "metadata": {},
   "outputs": [
    {
     "name": "stdout",
     "output_type": "stream",
     "text": [
      "11.25\n"
     ]
    }
   ],
   "source": [
    "def avg(a,b,c,d):\n",
    "    avg = a+b+c+d / 4\n",
    "    print(avg)\n",
    "\n",
    "avg(2,3,4,9)"
   ]
  },
  {
   "cell_type": "code",
   "execution_count": null,
   "id": "bd80a15b",
   "metadata": {},
   "outputs": [],
   "source": [
    "def avg(a,b,c,d):\n",
    "    avg = a+b+c+d / 4\n",
    "    print(avg)\n",
    "\n",
    "avg(2,3,4,9)"
   ]
  },
  {
   "cell_type": "code",
   "execution_count": 19,
   "id": "c4c123b9",
   "metadata": {},
   "outputs": [
    {
     "name": "stdout",
     "output_type": "stream",
     "text": [
      "I LOVE USA\n",
      "I LOVE london\n",
      "I LOVE india\n"
     ]
    }
   ],
   "source": [
    "def mycountry(country = 'india'):\n",
    "    return f'I LOVE {country}'\n",
    "print(mycountry('USA'))\n",
    "print(mycountry('london'))\n",
    "print(mycountry('india'))"
   ]
  },
  {
   "cell_type": "code",
   "execution_count": 23,
   "id": "1cd20e37",
   "metadata": {},
   "outputs": [
    {
     "data": {
      "text/plain": [
       "27"
      ]
     },
     "execution_count": 23,
     "metadata": {},
     "output_type": "execute_result"
    }
   ],
   "source": [
    "def square(a):\n",
    "    return a**a\n",
    "square(3)"
   ]
  },
  {
   "cell_type": "code",
   "execution_count": 24,
   "id": "4f3d0b16",
   "metadata": {},
   "outputs": [
    {
     "name": "stdout",
     "output_type": "stream",
     "text": [
      "27\n"
     ]
    }
   ],
   "source": [
    "square = lambda a : a**a\n",
    "print(square(3))"
   ]
  },
  {
   "cell_type": "code",
   "execution_count": null,
   "id": "6982d585",
   "metadata": {},
   "outputs": [],
   "source": [
    "def check():\n",
    "    "
   ]
  }
 ],
 "metadata": {
  "kernelspec": {
   "display_name": "base",
   "language": "python",
   "name": "python3"
  },
  "language_info": {
   "codemirror_mode": {
    "name": "ipython",
    "version": 3
   },
   "file_extension": ".py",
   "mimetype": "text/x-python",
   "name": "python",
   "nbconvert_exporter": "python",
   "pygments_lexer": "ipython3",
   "version": "3.13.2"
  }
 },
 "nbformat": 4,
 "nbformat_minor": 5
}
