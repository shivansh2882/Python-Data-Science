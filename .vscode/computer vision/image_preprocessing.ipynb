{
 "cells": [
  {
   "cell_type": "code",
   "execution_count": 1,
   "id": "68b3dd79",
   "metadata": {},
   "outputs": [],
   "source": [
    "import cv2"
   ]
  },
  {
   "cell_type": "code",
   "execution_count": 2,
   "id": "5edc831a",
   "metadata": {},
   "outputs": [],
   "source": [
    "image = cv2.imread('pexels-sagui-andrea-200115-618833.jpg')"
   ]
  },
  {
   "cell_type": "code",
   "execution_count": 3,
   "id": "a6806e51",
   "metadata": {},
   "outputs": [],
   "source": [
    "if image is not None:\n",
    "    cv2.imshow('image', image)\n",
    "    cv2.waitKey(0)\n",
    "    cv2.destroyAllWindows()"
   ]
  },
  {
   "cell_type": "code",
   "execution_count": 4,
   "id": "ca335a40",
   "metadata": {},
   "outputs": [
    {
     "data": {
      "text/plain": [
       "array([[[ 97,  70,  50],\n",
       "        [ 97,  70,  50],\n",
       "        [ 98,  71,  51],\n",
       "        ...,\n",
       "        [125, 100,  74],\n",
       "        [124,  99,  73],\n",
       "        [124,  99,  73]],\n",
       "\n",
       "       [[ 97,  70,  50],\n",
       "        [ 98,  71,  51],\n",
       "        [ 98,  71,  51],\n",
       "        ...,\n",
       "        [126, 101,  75],\n",
       "        [125, 100,  74],\n",
       "        [125, 100,  74]],\n",
       "\n",
       "       [[ 98,  71,  51],\n",
       "        [ 98,  71,  51],\n",
       "        [ 98,  71,  51],\n",
       "        ...,\n",
       "        [127, 102,  76],\n",
       "        [127, 102,  76],\n",
       "        [127, 102,  76]],\n",
       "\n",
       "       ...,\n",
       "\n",
       "       [[ 14,  18,  13],\n",
       "        [ 13,  17,  12],\n",
       "        [ 15,  16,  12],\n",
       "        ...,\n",
       "        [ 57,  65,  72],\n",
       "        [ 62,  70,  77],\n",
       "        [ 85,  93, 100]],\n",
       "\n",
       "       [[ 15,  19,  14],\n",
       "        [ 15,  19,  14],\n",
       "        [ 17,  18,  14],\n",
       "        ...,\n",
       "        [ 29,  37,  44],\n",
       "        [ 39,  47,  54],\n",
       "        [ 46,  54,  61]],\n",
       "\n",
       "       [[ 17,  21,  16],\n",
       "        [ 18,  22,  17],\n",
       "        [ 20,  21,  17],\n",
       "        ...,\n",
       "        [ 33,  42,  51],\n",
       "        [ 48,  57,  66],\n",
       "        [ 48,  57,  66]]], shape=(1469, 2200, 3), dtype=uint8)"
      ]
     },
     "execution_count": 4,
     "metadata": {},
     "output_type": "execute_result"
    }
   ],
   "source": [
    "image"
   ]
  },
  {
   "cell_type": "code",
   "execution_count": 5,
   "id": "a1e81140",
   "metadata": {},
   "outputs": [],
   "source": [
    "# for gray image\n",
    "gray_image = cv2.cvtColor(image, cv2.COLOR_BGR2GRAY)\n",
    "cv2.imshow('image', gray_image)\n",
    "cv2.waitKey(0)\n",
    "cv2.destroyAllWindows()  "
   ]
  },
  {
   "cell_type": "code",
   "execution_count": 6,
   "id": "19acae2a",
   "metadata": {},
   "outputs": [],
   "source": [
    "# for blur image\n",
    "blurred_image = cv2.GaussianBlur(image, (15, 15), 0)\n",
    "cv2.imshow('image', blurred_image)\n",
    "cv2.waitKey(0)\n",
    "cv2.destroyAllWindows()\n"
   ]
  },
  {
   "cell_type": "code",
   "execution_count": 7,
   "id": "b103c81c",
   "metadata": {},
   "outputs": [],
   "source": [
    "# for edge detection\n",
    "edges = cv2.Canny(gray_image, 100, 200)\n",
    "cv2.imshow('Edges', edges)\n",
    "cv2.waitKey(0)\n",
    "cv2.destroyAllWindows()"
   ]
  },
  {
   "cell_type": "code",
   "execution_count": 8,
   "id": "c98777d4",
   "metadata": {},
   "outputs": [],
   "source": [
    "# for resizing the image\n",
    "small_image = cv2.resize(image, (600, 400))\n",
    "cv2.imshow('Small Image', small_image)\n",
    "cv2.waitKey(0)\n",
    "cv2.destroyAllWindows()"
   ]
  },
  {
   "cell_type": "code",
   "execution_count": 9,
   "id": "5e7a1c30",
   "metadata": {},
   "outputs": [
    {
     "data": {
      "text/plain": [
       "(1469, 2200, 3)"
      ]
     },
     "execution_count": 9,
     "metadata": {},
     "output_type": "execute_result"
    }
   ],
   "source": [
    "image.shape"
   ]
  },
  {
   "cell_type": "code",
   "execution_count": 10,
   "id": "1863a717",
   "metadata": {},
   "outputs": [],
   "source": [
    "cropped_image = image[600:700, 500:600]\n",
    "\n",
    "cv2.imshow('Cropped Image', cropped_image)\n",
    "cv2.waitKey(0)      \n",
    "cv2.destroyAllWindows()"
   ]
  },
  {
   "cell_type": "code",
   "execution_count": 12,
   "id": "b1c808a4",
   "metadata": {},
   "outputs": [],
   "source": [
    "# for drawing a rectangle on the image\n",
    "drawing = image.copy()\n",
    "cv2.rectangle( drawing , (50, 50), (200, 200), (0, 255, 0), 3)   \n",
    "cv2.imshow('Rectangle', drawing)\n",
    "cv2.waitKey(0)\n",
    "cv2.destroyAllWindows() "
   ]
  },
  {
   "cell_type": "code",
   "execution_count": null,
   "id": "7429c75b",
   "metadata": {},
   "outputs": [],
   "source": []
  }
 ],
 "metadata": {
  "kernelspec": {
   "display_name": "base",
   "language": "python",
   "name": "python3"
  },
  "language_info": {
   "codemirror_mode": {
    "name": "ipython",
    "version": 3
   },
   "file_extension": ".py",
   "mimetype": "text/x-python",
   "name": "python",
   "nbconvert_exporter": "python",
   "pygments_lexer": "ipython3",
   "version": "3.13.2"
  }
 },
 "nbformat": 4,
 "nbformat_minor": 5
}
