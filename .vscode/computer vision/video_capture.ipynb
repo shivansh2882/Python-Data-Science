{
 "cells": [
  {
   "cell_type": "code",
   "execution_count": 2,
   "id": "d36be283",
   "metadata": {},
   "outputs": [],
   "source": [
    "import cv2"
   ]
  },
  {
   "cell_type": "code",
   "execution_count": 13,
   "id": "0edd681d",
   "metadata": {},
   "outputs": [
    {
     "name": "stdout",
     "output_type": "stream",
     "text": [
      "True\n"
     ]
    },
    {
     "data": {
      "text/plain": [
       "True"
      ]
     },
     "execution_count": 13,
     "metadata": {},
     "output_type": "execute_result"
    }
   ],
   "source": [
    "# select the video source\n",
    "cap = cv2.VideoCapture(0)  # 0 for the default camera\n",
    "\n",
    "# capture single image\n",
    "ret, frame = cap.read()\n",
    "print(ret) \n",
    "cv2.imshow('Camera frame', frame)\n",
    "cv2.waitKey(0)\n",
    "cv2.destroyAllWindows()\n",
    "cap.release()\n",
    "cv2.imwrite('selfie.png', frame)  # save the captured image"
   ]
  },
  {
   "cell_type": "code",
   "execution_count": 4,
   "id": "b6672128",
   "metadata": {},
   "outputs": [],
   "source": [
    "# select the video source \n",
    "cap = cv2.VideoCapture(0) \n",
    "\n",
    "# capture image in a loop\n",
    "while True:\n",
    "    ret, frame = cap.read()\n",
    "    cv2.imshow('Camera', frame)\n",
    "    if cv2.waitKey(1)== ord ('q'):  # exit on 'q' key press\n",
    "        break\n",
    "\n",
    "cv2.destroyAllWindows()\n",
    "cap.release()  # release the camera resource\n"
   ]
  },
  {
   "cell_type": "code",
   "execution_count": 5,
   "id": "a1bfe186",
   "metadata": {},
   "outputs": [],
   "source": [
    "# select the video source \n",
    "cap = cv2.VideoCapture(0) \n",
    "fourcc = cv2.VideoWriter_fourcc(*'XVID')  # codec for video writing\n",
    "out = cv2.VideoWriter('output.avi', fourcc, 20.0, (640, 480))  # output video file\n",
    "\n",
    "# capture image in a loop\n",
    "while True:\n",
    "    ret, frame = cap.read()\n",
    "    cv2.imshow('Camera', frame)\n",
    "\n",
    "    out.write(frame)  # write the frame to the video file\n",
    "\n",
    "    if cv2.waitKey(1)== ord ('q'):  # exit on 'q' key press\n",
    "        break\n",
    "\n",
    "cv2.destroyAllWindows()\n",
    "out.release()\n",
    "cap.release()  # release the camera resource\n",
    "\n",
    "\n",
    "\n",
    "\n"
   ]
  },
  {
   "cell_type": "code",
   "execution_count": null,
   "id": "1b831831",
   "metadata": {},
   "outputs": [],
   "source": [
    "\n",
    "\n"
   ]
  }
 ],
 "metadata": {
  "kernelspec": {
   "display_name": "base",
   "language": "python",
   "name": "python3"
  },
  "language_info": {
   "codemirror_mode": {
    "name": "ipython",
    "version": 3
   },
   "file_extension": ".py",
   "mimetype": "text/x-python",
   "name": "python",
   "nbconvert_exporter": "python",
   "pygments_lexer": "ipython3",
   "version": "3.13.2"
  }
 },
 "nbformat": 4,
 "nbformat_minor": 5
}
