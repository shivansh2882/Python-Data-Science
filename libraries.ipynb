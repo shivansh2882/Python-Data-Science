{
 "cells": [
  {
   "cell_type": "code",
   "execution_count": 18,
   "id": "e22eaa1d",
   "metadata": {},
   "outputs": [],
   "source": [
    "import math"
   ]
  },
  {
   "cell_type": "code",
   "execution_count": 19,
   "id": "8df35ad0",
   "metadata": {},
   "outputs": [
    {
     "name": "stdout",
     "output_type": "stream",
     "text": [
      "120\n",
      "1\n",
      "18\n",
      "0.8414709848078965\n",
      "0.0\n",
      "-0.4480736161291701\n"
     ]
    }
   ],
   "source": [
    "print(math.factorial(5))\n",
    "print(math.gcd(2,3,4))\n",
    "print(math.lcm(3,6,9))\n",
    "print(math.sin(1))\n",
    "print(math.tan(0))\n",
    "print(math.cos(90))\n"
   ]
  },
  {
   "cell_type": "code",
   "execution_count": 20,
   "id": "23b1a182",
   "metadata": {},
   "outputs": [],
   "source": [
    "from random import random, randint, choice, shuffle"
   ]
  },
  {
   "cell_type": "code",
   "execution_count": 21,
   "id": "3a0a7c9a",
   "metadata": {},
   "outputs": [],
   "source": [
    "import random"
   ]
  },
  {
   "cell_type": "code",
   "execution_count": 22,
   "id": "4ef23ebf",
   "metadata": {},
   "outputs": [
    {
     "name": "stdout",
     "output_type": "stream",
     "text": [
      "give a number btw 0 and 1 is 0.32862225470268513\n",
      "give number btw 2 and 9 is 5\n",
      "give a number from the list is 8\n",
      "shuffled list: ['jane', 'john', 'jill', 'jack']\n"
     ]
    }
   ],
   "source": [
    "print(\"give a number btw 0 and 1 is\",random.random()) \n",
    "print(\"give number btw 2 and 9 is\",random.randint(2,9))  #give no. btw 2,9\n",
    "print(\"give a number from the list is\",random.choice([2,3,4,5,6,7,8,9]))  \n",
    "name = ['john','jack','jane','jill']\n",
    "shuffle(name)\n",
    "print('shuffled list:', name)\n"
   ]
  },
  {
   "cell_type": "code",
   "execution_count": 23,
   "id": "a6d4f32d",
   "metadata": {},
   "outputs": [],
   "source": [
    "from datetime import datetime as dt"
   ]
  },
  {
   "cell_type": "code",
   "execution_count": 24,
   "id": "33112e56",
   "metadata": {},
   "outputs": [
    {
     "name": "stdout",
     "output_type": "stream",
     "text": [
      "current date and time:  2025-07-07\n",
      "current time:  09:41:20.768698\n"
     ]
    }
   ],
   "source": [
    "print('current date and time: ', dt.now().date())\n",
    "print('current time: ', dt.now().time())"
   ]
  },
  {
   "cell_type": "code",
   "execution_count": 25,
   "id": "63b5998e",
   "metadata": {},
   "outputs": [
    {
     "name": "stdout",
     "output_type": "stream",
     "text": [
      "current year: 2025\n",
      "current month:  7\n",
      "current date: 7\n",
      "current hour: 9\n",
      "current minute: 41\n"
     ]
    }
   ],
   "source": [
    "print('current year:',dt.now().year)\n",
    "print('current month: ', dt.now().day)\n",
    "print('current date:', dt.now().day)\n",
    "print('current hour:', dt.now().hour)\n",
    "print('current minute:',dt.now().minute)\n"
   ]
  },
  {
   "cell_type": "code",
   "execution_count": 29,
   "id": "2033adb0",
   "metadata": {},
   "outputs": [
    {
     "name": "stdout",
     "output_type": "stream",
     "text": [
      "07/07/2025\n"
     ]
    }
   ],
   "source": [
    "date = dt.strftime(dt.now(), '%d/%m/%Y')\n",
    "print(date)"
   ]
  },
  {
   "cell_type": "code",
   "execution_count": 27,
   "id": "fb0f43ec",
   "metadata": {},
   "outputs": [
    {
     "name": "stdout",
     "output_type": "stream",
     "text": [
      "09:41:20\n"
     ]
    }
   ],
   "source": [
    "time = dt.strftime(dt.now(), '%H:%M:%S')\n",
    "print(time)"
   ]
  },
  {
   "cell_type": "code",
   "execution_count": 51,
   "id": "9517b138",
   "metadata": {},
   "outputs": [
    {
     "name": "stdout",
     "output_type": "stream",
     "text": [
      "current month:  7\n"
     ]
    }
   ],
   "source": [
    "print('current month: ', dt.now().day)"
   ]
  },
  {
   "cell_type": "code",
   "execution_count": null,
   "id": "72531e02",
   "metadata": {},
   "outputs": [],
   "source": []
  }
 ],
 "metadata": {
  "kernelspec": {
   "display_name": "base",
   "language": "python",
   "name": "python3"
  },
  "language_info": {
   "codemirror_mode": {
    "name": "ipython",
    "version": 3
   },
   "file_extension": ".py",
   "mimetype": "text/x-python",
   "name": "python",
   "nbconvert_exporter": "python",
   "pygments_lexer": "ipython3",
   "version": "3.13.2"
  }
 },
 "nbformat": 4,
 "nbformat_minor": 5
}
