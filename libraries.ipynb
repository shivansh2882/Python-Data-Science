{
 "cells": [
  {
   "cell_type": "code",
   "execution_count": 1,
   "id": "e22eaa1d",
   "metadata": {},
   "outputs": [],
   "source": [
    "import math"
   ]
  },
  {
   "cell_type": "code",
   "execution_count": 2,
   "id": "8df35ad0",
   "metadata": {},
   "outputs": [
    {
     "name": "stdout",
     "output_type": "stream",
     "text": [
      "120\n",
      "1\n",
      "18\n",
      "0.8414709848078965\n",
      "0.0\n",
      "-0.4480736161291701\n"
     ]
    }
   ],
   "source": [
    "print(math.factorial(5))\n",
    "print(math.gcd(2,3,4))\n",
    "print(math.lcm(3,6,9))\n",
    "print(math.sin(1))\n",
    "print(math.tan(0))\n",
    "print(math.cos(90))\n"
   ]
  },
  {
   "cell_type": "code",
   "execution_count": 3,
   "id": "23b1a182",
   "metadata": {},
   "outputs": [],
   "source": [
    "from random import random, randint, choice, shuffle"
   ]
  },
  {
   "cell_type": "code",
   "execution_count": 4,
   "id": "3a0a7c9a",
   "metadata": {},
   "outputs": [],
   "source": [
    "import random"
   ]
  },
  {
   "cell_type": "code",
   "execution_count": 5,
   "id": "4ef23ebf",
   "metadata": {},
   "outputs": [
    {
     "name": "stdout",
     "output_type": "stream",
     "text": [
      "give a number btw 0 and 1 is 0.5500636785185408\n",
      "give number btw 2 and 9 is 9\n",
      "give a number from the list is 4\n",
      "shuffled list: ['jill', 'jack', 'jane', 'john']\n"
     ]
    }
   ],
   "source": [
    "print(\"give a number btw 0 and 1 is\",random.random()) \n",
    "print(\"give number btw 2 and 9 is\",random.randint(2,9))  #give no. btw 2,9\n",
    "print(\"give a number from the list is\",random.choice([2,3,4,5,6,7,8,9]))  \n",
    "name = ['john','jack','jane','jill']\n",
    "shuffle(name)\n",
    "print('shuffled list:', name)\n"
   ]
  },
  {
   "cell_type": "code",
   "execution_count": 6,
   "id": "a6d4f32d",
   "metadata": {},
   "outputs": [],
   "source": [
    "from datetime import datetime as dt"
   ]
  },
  {
   "cell_type": "code",
   "execution_count": 7,
   "id": "33112e56",
   "metadata": {},
   "outputs": [
    {
     "name": "stdout",
     "output_type": "stream",
     "text": [
      "current date and time:  2025-07-12\n",
      "current time:  17:14:03.984416\n"
     ]
    }
   ],
   "source": [
    "print('current date and time: ', dt.now().date())\n",
    "print('current time: ', dt.now().time())"
   ]
  },
  {
   "cell_type": "code",
   "execution_count": 8,
   "id": "63b5998e",
   "metadata": {},
   "outputs": [
    {
     "name": "stdout",
     "output_type": "stream",
     "text": [
      "current year: 2025\n",
      "current month:  12\n",
      "current date: 12\n",
      "current hour: 17\n",
      "current minute: 14\n"
     ]
    }
   ],
   "source": [
    "print('current year:',dt.now().year)\n",
    "print('current month: ', dt.now().day)\n",
    "print('current date:', dt.now().day)\n",
    "print('current hour:', dt.now().hour)\n",
    "print('current minute:',dt.now().minute)\n"
   ]
  },
  {
   "cell_type": "code",
   "execution_count": 9,
   "id": "2033adb0",
   "metadata": {},
   "outputs": [
    {
     "name": "stdout",
     "output_type": "stream",
     "text": [
      "12/07/2025\n"
     ]
    }
   ],
   "source": [
    "date = dt.strftime(dt.now(), '%d/%m/%Y')\n",
    "print(date)"
   ]
  },
  {
   "cell_type": "code",
   "execution_count": 10,
   "id": "fb0f43ec",
   "metadata": {},
   "outputs": [
    {
     "name": "stdout",
     "output_type": "stream",
     "text": [
      "17:14:04\n"
     ]
    }
   ],
   "source": [
    "time = dt.strftime(dt.now(), '%H:%M:%S')\n",
    "print(time)"
   ]
  },
  {
   "cell_type": "code",
   "execution_count": 11,
   "id": "9517b138",
   "metadata": {},
   "outputs": [
    {
     "name": "stdout",
     "output_type": "stream",
     "text": [
      "current month:  12\n"
     ]
    }
   ],
   "source": [
    "print('current month: ', dt.now().day)"
   ]
  },
  {
   "cell_type": "code",
   "execution_count": null,
   "id": "72531e02",
   "metadata": {},
   "outputs": [],
   "source": []
  }
 ],
 "metadata": {
  "kernelspec": {
   "display_name": "base",
   "language": "python",
   "name": "python3"
  },
  "language_info": {
   "codemirror_mode": {
    "name": "ipython",
    "version": 3
   },
   "file_extension": ".py",
   "mimetype": "text/x-python",
   "name": "python",
   "nbconvert_exporter": "python",
   "pygments_lexer": "ipython3",
   "version": "3.13.2"
  }
 },
 "nbformat": 4,
 "nbformat_minor": 5
}
