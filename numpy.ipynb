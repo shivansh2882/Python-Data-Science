{
 "cells": [
  {
   "cell_type": "code",
   "execution_count": 1,
   "id": "0708ab57",
   "metadata": {},
   "outputs": [],
   "source": [
    "import numpy as np\n"
   ]
  },
  {
   "cell_type": "code",
   "execution_count": 2,
   "id": "141266bb",
   "metadata": {},
   "outputs": [
    {
     "name": "stdout",
     "output_type": "stream",
     "text": [
      "[1 2 3 4 5]\n"
     ]
    }
   ],
   "source": [
    "a = np.array([1,2,3,4,5])\n",
    "print(a)"
   ]
  },
  {
   "cell_type": "code",
   "execution_count": 3,
   "id": "0fe125dd",
   "metadata": {},
   "outputs": [
    {
     "data": {
      "text/plain": [
       "numpy.ndarray"
      ]
     },
     "execution_count": 3,
     "metadata": {},
     "output_type": "execute_result"
    }
   ],
   "source": [
    "type(a)"
   ]
  },
  {
   "cell_type": "code",
   "execution_count": 4,
   "id": "5a64d320",
   "metadata": {},
   "outputs": [
    {
     "name": "stdout",
     "output_type": "stream",
     "text": [
      "[[ 1  2  3  4  5]\n",
      " [ 6  7  8  9 10]]\n"
     ]
    }
   ],
   "source": [
    "# creatin a 2d array\n",
    "a2 = np.array([[1,2,3,4,5],[6,7,8,9,10]])\n",
    "print(a2)"
   ]
  },
  {
   "cell_type": "code",
   "execution_count": 5,
   "id": "7a770557",
   "metadata": {},
   "outputs": [
    {
     "name": "stdout",
     "output_type": "stream",
     "text": [
      "[[[1 2 3]\n",
      "  [4 5 6]]\n",
      "\n",
      " [[6 7 8]\n",
      "  [3 4 5]]]\n"
     ]
    }
   ],
   "source": [
    "#creating a 3d array\n",
    "a3 = np.array([[[1,2,3],[4,5,6]],[[6,7,8],[3,4,5,]]])\n",
    "print(a3)"
   ]
  },
  {
   "cell_type": "code",
   "execution_count": 6,
   "id": "e7cb9a1b",
   "metadata": {},
   "outputs": [
    {
     "name": "stdout",
     "output_type": "stream",
     "text": [
      "(2, 5)\n",
      "2\n",
      "3\n",
      "int64\n"
     ]
    }
   ],
   "source": [
    "print(a2.shape)  # gives numbers of rows and coloumn\n",
    "print(a2.ndim)   # gives dimention of an array\n",
    "print(a3.ndim)   # datatype of element \n",
    "print(a2.dtype)  "
   ]
  },
  {
   "cell_type": "code",
   "execution_count": 7,
   "id": "80937c7a",
   "metadata": {},
   "outputs": [
    {
     "data": {
      "text/plain": [
       "array([1, 3, 5, 7, 9])"
      ]
     },
     "execution_count": 7,
     "metadata": {},
     "output_type": "execute_result"
    }
   ],
   "source": [
    "np.arange(10)\n",
    "np.arange(1,11)\n",
    "np.arange(1,11,2)"
   ]
  },
  {
   "cell_type": "code",
   "execution_count": 8,
   "id": "0fe789e8",
   "metadata": {},
   "outputs": [
    {
     "data": {
      "text/plain": [
       "array([[ 5,  4,  1],\n",
       "       [10,  6,  4]], dtype=int32)"
      ]
     },
     "execution_count": 8,
     "metadata": {},
     "output_type": "execute_result"
    }
   ],
   "source": [
    "np.random.randint(1,11, size=(2,3))  # to create array\n"
   ]
  },
  {
   "cell_type": "code",
   "execution_count": 9,
   "id": "d7132068",
   "metadata": {},
   "outputs": [
    {
     "name": "stdout",
     "output_type": "stream",
     "text": [
      "[[7 2 3]\n",
      " [7 5 4]\n",
      " [4 5 6]]\n",
      "[[1 4 3]\n",
      " [2 3 4]\n",
      " [4 3 1]]\n"
     ]
    }
   ],
   "source": [
    "x = np.array([[7,2,3],\n",
    "              [7,5,4],\n",
    "              [4,5,6]])\n",
    "y = np.array([[1,4,3],\n",
    "              [2,3,4],\n",
    "              [4,3,1]])\n",
    "print(x)\n",
    "print(y)"
   ]
  },
  {
   "cell_type": "code",
   "execution_count": null,
   "id": "236ce009",
   "metadata": {},
   "outputs": [
    {
     "name": "stdout",
     "output_type": "stream",
     "text": [
      "[[ 7  8  9]\n",
      " [14 15 16]\n",
      " [16 15  6]]\n"
     ]
    }
   ],
   "source": [
    "print(x*y) #matrix multiplication"
   ]
  },
  {
   "cell_type": "code",
   "execution_count": 11,
   "id": "5f91131b",
   "metadata": {},
   "outputs": [
    {
     "name": "stdout",
     "output_type": "stream",
     "text": [
      "[[23 43 32]\n",
      " [33 55 45]\n",
      " [38 49 38]]\n"
     ]
    }
   ],
   "source": [
    "# matrix multiplication\n",
    "print(x@y)"
   ]
  },
  {
   "cell_type": "code",
   "execution_count": 12,
   "id": "7954e409",
   "metadata": {},
   "outputs": [
    {
     "name": "stdout",
     "output_type": "stream",
     "text": [
      "[[7 2 3]\n",
      " [7 5 4]\n",
      " [4 5 6]] [[1 4 3]\n",
      " [2 3 4]\n",
      " [4 3 1]]\n"
     ]
    }
   ],
   "source": [
    "# matrix multiplication\n",
    "print(x,y)"
   ]
  },
  {
   "cell_type": "code",
   "execution_count": null,
   "id": "209e1f9d",
   "metadata": {},
   "outputs": [
    {
     "data": {
      "text/plain": [
       "array([[23, 43, 32],\n",
       "       [33, 55, 45],\n",
       "       [38, 49, 38]])"
      ]
     },
     "execution_count": 13,
     "metadata": {},
     "output_type": "execute_result"
    }
   ],
   "source": [
    "np.dot(x,y) # matrix muktiplication "
   ]
  },
  {
   "cell_type": "code",
   "execution_count": null,
   "id": "60bc4fe7",
   "metadata": {},
   "outputs": [
    {
     "data": {
      "text/plain": [
       "np.int64(705600)"
      ]
     },
     "execution_count": 14,
     "metadata": {},
     "output_type": "execute_result"
    }
   ],
   "source": [
    "x.prod()   # product of all element of the array"
   ]
  },
  {
   "cell_type": "code",
   "execution_count": null,
   "id": "05acbd33",
   "metadata": {},
   "outputs": [
    {
     "data": {
      "text/plain": [
       "np.float64(4.777777777777778)"
      ]
     },
     "execution_count": 15,
     "metadata": {},
     "output_type": "execute_result"
    }
   ],
   "source": [
    "x.mean()   # mean of all elements"
   ]
  },
  {
   "cell_type": "code",
   "execution_count": 16,
   "id": "be3880fd",
   "metadata": {},
   "outputs": [
    {
     "data": {
      "text/plain": [
       "np.float64(2.7777777777777777)"
      ]
     },
     "execution_count": 16,
     "metadata": {},
     "output_type": "execute_result"
    }
   ],
   "source": [
    "y.mean()"
   ]
  },
  {
   "cell_type": "code",
   "execution_count": 17,
   "id": "bd7b2343",
   "metadata": {},
   "outputs": [
    {
     "name": "stdout",
     "output_type": "stream",
     "text": [
      "[[7 2 3]\n",
      " [7 5 4]\n",
      " [4 5 6]]\n"
     ]
    }
   ],
   "source": [
    "print(x)"
   ]
  },
  {
   "cell_type": "code",
   "execution_count": 18,
   "id": "0ccdbdb0",
   "metadata": {},
   "outputs": [
    {
     "data": {
      "text/plain": [
       "array([6.        , 4.        , 4.33333333])"
      ]
     },
     "execution_count": 18,
     "metadata": {},
     "output_type": "execute_result"
    }
   ],
   "source": [
    "x.mean(axis = 0)   #coloun wise mean"
   ]
  },
  {
   "cell_type": "code",
   "execution_count": 19,
   "id": "7433d32f",
   "metadata": {},
   "outputs": [
    {
     "data": {
      "text/plain": [
       "array([2.66666667, 3.        , 2.66666667])"
      ]
     },
     "execution_count": 19,
     "metadata": {},
     "output_type": "execute_result"
    }
   ],
   "source": [
    "y.mean(axis = 1)  #row wise mean"
   ]
  },
  {
   "cell_type": "code",
   "execution_count": null,
   "id": "d1fd9c4b",
   "metadata": {},
   "outputs": [
    {
     "name": "stdout",
     "output_type": "stream",
     "text": [
      "43\n",
      "1.617802197617893\n",
      "2.617283950617284\n"
     ]
    }
   ],
   "source": [
    "print(x.sum())\n",
    "print(x.std())  # std deviation\n",
    "print(x.var())    #variance"
   ]
  },
  {
   "cell_type": "code",
   "execution_count": 23,
   "id": "ee0d8e5a",
   "metadata": {},
   "outputs": [
    {
     "name": "stdout",
     "output_type": "stream",
     "text": [
      "3.0\n",
      "5.0\n",
      "7.0\n"
     ]
    }
   ],
   "source": [
    "a = np.array([1,2,3,4,5,6,7,8,9])\n",
    "print(np.percentile(a,25))   # 1st quartile\n",
    "print(np.percentile(a,50))   # median\n",
    "print(np.percentile(a,75))   # 3rd quartile\n"
   ]
  },
  {
   "cell_type": "code",
   "execution_count": 27,
   "id": "bf07124b",
   "metadata": {},
   "outputs": [
    {
     "name": "stdout",
     "output_type": "stream",
     "text": [
      "5\n"
     ]
    }
   ],
   "source": [
    "b = np.random.randint(1,11,)  #size of matrix\n",
    "print(b)"
   ]
  },
  {
   "cell_type": "code",
   "execution_count": 28,
   "id": "f8306b00",
   "metadata": {},
   "outputs": [
    {
     "name": "stdout",
     "output_type": "stream",
     "text": [
      "[[59 39 54 90]\n",
      " [37 16 83 69]\n",
      " [56 58 56 33]\n",
      " [25 89 48 94]]\n"
     ]
    }
   ],
   "source": [
    "b = np.random.randint(11,100, (4,4))\n",
    "print(b)"
   ]
  },
  {
   "cell_type": "code",
   "execution_count": 29,
   "id": "daf571bc",
   "metadata": {},
   "outputs": [
    {
     "name": "stdout",
     "output_type": "stream",
     "text": [
      "[7 2 3]\n",
      "2\n",
      "[4 5 6]\n",
      "[[7 2 3]\n",
      " [7 5 4]\n",
      " [4 5 6]]\n",
      "[]\n"
     ]
    }
   ],
   "source": [
    "print(x[0])  #1st row\n",
    "print(x[0,1])  #1st row and 2nd coloumn's first element\n",
    "print(x[-1])\n",
    "\n",
    "print(x[:3])\n",
    "print(x[3:])"
   ]
  },
  {
   "cell_type": "code",
   "execution_count": null,
   "id": "134abd01",
   "metadata": {},
   "outputs": [],
   "source": []
  }
 ],
 "metadata": {
  "kernelspec": {
   "display_name": "base",
   "language": "python",
   "name": "python3"
  },
  "language_info": {
   "codemirror_mode": {
    "name": "ipython",
    "version": 3
   },
   "file_extension": ".py",
   "mimetype": "text/x-python",
   "name": "python",
   "nbconvert_exporter": "python",
   "pygments_lexer": "ipython3",
   "version": "3.13.2"
  }
 },
 "nbformat": 4,
 "nbformat_minor": 5
}
