{
 "cells": [
  {
   "cell_type": "code",
   "execution_count": null,
   "id": "f7c73d7a",
   "metadata": {},
   "outputs": [],
   "source": []
  },
  {
   "cell_type": "markdown",
   "id": "4afc48c9",
   "metadata": {},
   "source": [
    "heading"
   ]
  },
  {
   "cell_type": "markdown",
   "id": "1afad05a",
   "metadata": {},
   "source": [
    "# heading"
   ]
  },
  {
   "cell_type": "markdown",
   "id": "2b8a32fc",
   "metadata": {},
   "source": [
    "- point1\n",
    "- point2\n",
    "    - subpoint1\n",
    "    - subpoint2\n",
    "    - subpoint3\n",
    "- point3"
   ]
  },
  {
   "cell_type": "code",
   "execution_count": 4,
   "id": "cea04b0c",
   "metadata": {},
   "outputs": [
    {
     "name": "stdout",
     "output_type": "stream",
     "text": [
      "22\n",
      "sum of 10 and 12 is 22\n",
      "sum of 10 and 12 is 22\n"
     ]
    }
   ],
   "source": [
    "a = 10\n",
    "b = 12 \n",
    "sum = a+b\n",
    "print(sum)\n",
    "print(\"sum of\",a,\"and\",b,\"is\",sum)\n",
    "print(f\"sum of {a} and {b} is {sum}\")"
   ]
  },
  {
   "cell_type": "markdown",
   "id": "92305fe5",
   "metadata": {},
   "source": []
  }
 ],
 "metadata": {
  "kernelspec": {
   "display_name": "base",
   "language": "python",
   "name": "python3"
  },
  "language_info": {
   "codemirror_mode": {
    "name": "ipython",
    "version": 3
   },
   "file_extension": ".py",
   "mimetype": "text/x-python",
   "name": "python",
   "nbconvert_exporter": "python",
   "pygments_lexer": "ipython3",
   "version": "3.13.2"
  }
 },
 "nbformat": 4,
 "nbformat_minor": 5
}
