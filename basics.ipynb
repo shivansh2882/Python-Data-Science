{
 "cells": [
  {
   "cell_type": "code",
   "execution_count": null,
   "id": "f7c73d7a",
   "metadata": {},
   "outputs": [],
   "source": []
  },
  {
   "cell_type": "markdown",
   "id": "4afc48c9",
   "metadata": {},
   "source": [
    "heading"
   ]
  },
  {
   "cell_type": "markdown",
   "id": "1afad05a",
   "metadata": {},
   "source": [
    "# heading"
   ]
  },
  {
   "cell_type": "markdown",
   "id": "2b8a32fc",
   "metadata": {},
   "source": [
    "- point1\n",
    "- point2\n",
    "    - subpoint1\n",
    "    - subpoint2\n",
    "    - subpoint3\n",
    "- point3"
   ]
  },
  {
   "cell_type": "markdown",
   "id": "92305fe5",
   "metadata": {},
   "source": []
  }
 ],
 "metadata": {
  "kernelspec": {
   "display_name": "base",
   "language": "python",
   "name": "python3"
  },
  "language_info": {
   "name": "python",
   "version": "3.13.2"
  }
 },
 "nbformat": 4,
 "nbformat_minor": 5
}
