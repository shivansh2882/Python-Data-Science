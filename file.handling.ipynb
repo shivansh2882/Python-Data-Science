{
 "cells": [
  {
   "cell_type": "code",
   "execution_count": null,
   "id": "838b9d06",
   "metadata": {},
   "outputs": [],
   "source": [
    "import os"
   ]
  },
  {
   "cell_type": "code",
   "execution_count": 2,
   "id": "abe3f154",
   "metadata": {},
   "outputs": [
    {
     "name": "stdout",
     "output_type": "stream",
     "text": [
      "Current Working Directory is : d:\\chapter 1\n"
     ]
    }
   ],
   "source": [
    "print('Current Working Directory is :' , os.getcwd())   #getcwd() - get current working directory"
   ]
  },
  {
   "cell_type": "code",
   "execution_count": 5,
   "id": "613c525c",
   "metadata": {},
   "outputs": [
    {
     "name": "stdout",
     "output_type": "stream",
     "text": [
      "files in current working directory ['GTA V']\n"
     ]
    }
   ],
   "source": [
    "files = os.listdir(r\"C:\\Users\\SHIVANSH\\OneDrive\\Documents\\Rockstar Games\")\n",
    "print('files in current working directory', files )"
   ]
  },
  {
   "cell_type": "code",
   "execution_count": 8,
   "id": "0aeea053",
   "metadata": {},
   "outputs": [
    {
     "name": "stdout",
     "output_type": "stream",
     "text": [
      "=> C:\\Users\\SHIVANSH\\OneDrive\\Documents\\Rockstar Games\n",
      "📂 ['GTA V']\n",
      "🗄 []\n",
      "=> C:\\Users\\SHIVANSH\\OneDrive\\Documents\\Rockstar Games\\GTA V\n",
      "📂 ['User Music']\n",
      "🗄 ['settings.xml']\n",
      "=> C:\\Users\\SHIVANSH\\OneDrive\\Documents\\Rockstar Games\\GTA V\\User Music\n",
      "📂 []\n",
      "🗄 []\n",
      "total files in directory tree: 1\n"
     ]
    }
   ],
   "source": [
    "total_files = 0\n",
    "for path, folders, files in os.walk(r\"C:\\Users\\SHIVANSH\\OneDrive\\Documents\\Rockstar Games\"):\n",
    "    print('=>',path)\n",
    "    print('📂',folders)\n",
    "    print('🗄',files)\n",
    "    total_files += len(files)\n",
    "print('total files in directory tree:', total_files)"
   ]
  },
  {
   "cell_type": "code",
   "execution_count": null,
   "id": "34ad415b",
   "metadata": {},
   "outputs": [],
   "source": []
  }
 ],
 "metadata": {
  "kernelspec": {
   "display_name": "base",
   "language": "python",
   "name": "python3"
  },
  "language_info": {
   "codemirror_mode": {
    "name": "ipython",
    "version": 3
   },
   "file_extension": ".py",
   "mimetype": "text/x-python",
   "name": "python",
   "nbconvert_exporter": "python",
   "pygments_lexer": "ipython3",
   "version": "3.13.2"
  }
 },
 "nbformat": 4,
 "nbformat_minor": 5
}
