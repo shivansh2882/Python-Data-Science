{
 "cells": [
  {
   "cell_type": "code",
   "execution_count": 1,
   "id": "feeda5de",
   "metadata": {},
   "outputs": [
    {
     "name": "stdout",
     "output_type": "stream",
     "text": [
      "7\n"
     ]
    }
   ],
   "source": [
    "a = 5\n",
    "b = 2\n",
    "print(a+b)\n"
   ]
  },
  {
   "cell_type": "code",
   "execution_count": 2,
   "id": "fb368868",
   "metadata": {},
   "outputs": [
    {
     "name": "stdout",
     "output_type": "stream",
     "text": [
      "2.5\n"
     ]
    }
   ],
   "source": [
    "print(a/b)\n"
   ]
  },
  {
   "cell_type": "code",
   "execution_count": 3,
   "id": "449b40c7",
   "metadata": {},
   "outputs": [
    {
     "name": "stdout",
     "output_type": "stream",
     "text": [
      "10\n"
     ]
    }
   ],
   "source": [
    "a+=5\n",
    "print(a)"
   ]
  },
  {
   "cell_type": "code",
   "execution_count": 4,
   "id": "9d500b14",
   "metadata": {},
   "outputs": [],
   "source": [
    "c=10"
   ]
  },
  {
   "cell_type": "code",
   "execution_count": 5,
   "id": "a696c4ec",
   "metadata": {},
   "outputs": [
    {
     "data": {
      "text/plain": [
       "False"
      ]
     },
     "execution_count": 5,
     "metadata": {},
     "output_type": "execute_result"
    }
   ],
   "source": [
    "a<b and a>c"
   ]
  },
  {
   "cell_type": "code",
   "execution_count": 6,
   "id": "d9edee11",
   "metadata": {},
   "outputs": [
    {
     "data": {
      "text/plain": [
       "False"
      ]
     },
     "execution_count": 6,
     "metadata": {},
     "output_type": "execute_result"
    }
   ],
   "source": [
    "a<c or a>c "
   ]
  },
  {
   "cell_type": "code",
   "execution_count": 7,
   "id": "5658933e",
   "metadata": {},
   "outputs": [
    {
     "data": {
      "text/plain": [
       "True"
      ]
     },
     "execution_count": 7,
     "metadata": {},
     "output_type": "execute_result"
    }
   ],
   "source": [
    "not(a<b and a>c)"
   ]
  },
  {
   "cell_type": "code",
   "execution_count": 8,
   "id": "9b4e5bdc",
   "metadata": {},
   "outputs": [
    {
     "data": {
      "text/plain": [
       "False"
      ]
     },
     "execution_count": 8,
     "metadata": {},
     "output_type": "execute_result"
    }
   ],
   "source": [
    "fruits = ['apple','banana','cherry','orange',]\n",
    "'mango' in fruits"
   ]
  },
  {
   "cell_type": "code",
   "execution_count": 9,
   "id": "af61d42b",
   "metadata": {},
   "outputs": [
    {
     "data": {
      "text/plain": [
       "True"
      ]
     },
     "execution_count": 9,
     "metadata": {},
     "output_type": "execute_result"
    }
   ],
   "source": [
    "'apple' in fruits"
   ]
  },
  {
   "cell_type": "code",
   "execution_count": 2,
   "id": "d3b830e7",
   "metadata": {},
   "outputs": [
    {
     "name": "stdout",
     "output_type": "stream",
     "text": [
      "['apple', 'banana', 'cherry', 'orange']\n"
     ]
    }
   ],
   "source": [
    "fruits = ['apple','banana','cherry','orange']\n",
    "print(fruits)"
   ]
  },
  {
   "cell_type": "code",
   "execution_count": 3,
   "id": "87bc00a8",
   "metadata": {},
   "outputs": [
    {
     "name": "stdout",
     "output_type": "stream",
     "text": [
      "{'name': 'john doe', 'age': 20, 'class': '10th', 'marks': 78}\n"
     ]
    }
   ],
   "source": [
    "students = {\n",
    "    'name' : 'john doe',\n",
    "    'age' : 20,\n",
    "    'class' : '10th',\n",
    "    'marks' : 78\n",
    "}\n",
    "print(students)"
   ]
  },
  {
   "cell_type": "code",
   "execution_count": 4,
   "id": "253ac31d",
   "metadata": {},
   "outputs": [
    {
     "data": {
      "text/plain": [
       "dict"
      ]
     },
     "execution_count": 4,
     "metadata": {},
     "output_type": "execute_result"
    }
   ],
   "source": [
    "type(students)"
   ]
  },
  {
   "cell_type": "code",
   "execution_count": 6,
   "id": "bbcc8f02",
   "metadata": {},
   "outputs": [
    {
     "name": "stdout",
     "output_type": "stream",
     "text": [
      "5\n"
     ]
    },
    {
     "data": {
      "text/plain": [
       "int"
      ]
     },
     "execution_count": 6,
     "metadata": {},
     "output_type": "execute_result"
    }
   ],
   "source": [
    "a = 5\n",
    "b = 5\n",
    "print(b)\n",
    "type(b)"
   ]
  },
  {
   "cell_type": "code",
   "execution_count": 7,
   "id": "c0ebc065",
   "metadata": {},
   "outputs": [
    {
     "name": "stdout",
     "output_type": "stream",
     "text": [
      "5\n"
     ]
    },
    {
     "data": {
      "text/plain": [
       "str"
      ]
     },
     "execution_count": 7,
     "metadata": {},
     "output_type": "execute_result"
    }
   ],
   "source": [
    "b = 5 \n",
    "c = str(b)\n",
    "print(c)\n",
    "type(c)"
   ]
  },
  {
   "cell_type": "code",
   "execution_count": 8,
   "id": "0466356d",
   "metadata": {},
   "outputs": [
    {
     "name": "stdout",
     "output_type": "stream",
     "text": [
      "5\n"
     ]
    },
    {
     "data": {
      "text/plain": [
       "str"
      ]
     },
     "execution_count": 8,
     "metadata": {},
     "output_type": "execute_result"
    }
   ],
   "source": [
    "a = input(\"enter a number\")\n",
    "print(a)\n",
    "type(a)\n"
   ]
  },
  {
   "cell_type": "code",
   "execution_count": 9,
   "id": "8189076b",
   "metadata": {},
   "outputs": [
    {
     "name": "stdout",
     "output_type": "stream",
     "text": [
      "7\n"
     ]
    }
   ],
   "source": [
    "a = int(input(\"enter a number\"))\n",
    "b = int(input(\"enter a number\"))\n",
    "print(a+b)"
   ]
  },
  {
   "cell_type": "markdown",
   "id": "53a5f0b0",
   "metadata": {},
   "source": [
    "- check whether the two sides of triangle is equal or not\n",
    "- check whether a triangle is an equilateral triangle or isoceles triangle \n",
    "- check whether a character entered by user is vowel or not\n",
    "- check whether a year is a leap year or not\n",
    "- check whether a number is even or odd\n",
    "- check the gross salary of an employee where the basic salary is 50,000 HRA is 5% of basic salary and DA is 10% of basic salary \n"
   ]
  },
  {
   "cell_type": "code",
   "execution_count": 2,
   "id": "e93d0861",
   "metadata": {},
   "outputs": [
    {
     "name": "stdout",
     "output_type": "stream",
     "text": [
      "two sides are equal\n"
     ]
    }
   ],
   "source": [
    "# check whether the two sides of triangle is equal or not\n",
    "a = int(input(\"enter a side of triangle : \"))\n",
    "b = int(input(\"enter a side of triangle : \"))\n",
    "c = int(input(\"enter a side of triangle : \"))\n",
    "if a==b or a==c or b==c:\n",
    "    print(\"two sides are equal\")\n",
    "else:\n",
    "    print(\"two sides are not equal\") "
   ]
  },
  {
   "cell_type": "code",
   "execution_count": 11,
   "id": "786db8c5",
   "metadata": {},
   "outputs": [
    {
     "name": "stdout",
     "output_type": "stream",
     "text": [
      "triangle is equilateral\n"
     ]
    }
   ],
   "source": [
    "# check whether a triangle is an equilateral or isoceles triangle\n",
    "a = int(input(\"enter a side of triangle : \"))\n",
    "b = int(input(\"enter a side of triangle : \"))\n",
    "c = int(input(\"enter a side of triangle : \"))\n",
    "if a==b or b==c :\n",
    "    print(\"triangle is equilateral\")\n",
    "elif a==b or a==c or b==c :\n",
    "    print(\"triangle is isoceles\")\n",
    "else : \n",
    "    print(\"it is scalene\")\n",
    "\n",
    "\n",
    "\n",
    "\n",
    "\n",
    "\n",
    " "
   ]
  },
  {
   "cell_type": "code",
   "execution_count": 13,
   "id": "f17d713f",
   "metadata": {},
   "outputs": [
    {
     "name": "stdout",
     "output_type": "stream",
     "text": [
      "the character is not vowel\n"
     ]
    }
   ],
   "source": [
    "# check whether a character entered by user is vowel or not\n",
    "ch = input(\"enter a character\")\n",
    "if ch in ['a','e','i','o','u','A','E','I','O','U'] :\n",
    "    print(\"the character is vowel\")\n",
    "else :\n",
    "    print(\"the character is not vowel\")\n",
    "          \n",
    "          "
   ]
  },
  {
   "cell_type": "code",
   "execution_count": 20,
   "id": "af5b9d77",
   "metadata": {},
   "outputs": [
    {
     "name": "stdout",
     "output_type": "stream",
     "text": [
      "it is not leap year\n"
     ]
    }
   ],
   "source": [
    "#  check whether a year is leap  year or not\n",
    "a = int(input(\"enter a year\"))\n",
    "if (a % 4 ==0 and a % 100 != 0) or (a % 400 ==0 ):\n",
    "    print(\"leap year\")\n",
    "else :\n",
    "    print(\"it is not leap year\")\n",
    "\n",
    "\n"
   ]
  },
  {
   "cell_type": "code",
   "execution_count": 15,
   "id": "406dc44c",
   "metadata": {},
   "outputs": [
    {
     "name": "stdout",
     "output_type": "stream",
     "text": [
      " the numner is even\n"
     ]
    }
   ],
   "source": [
    "# check whether a number is even or odd\n",
    "a = int(input(\"enter a number\"))\n",
    "if a % 2 ==0 :\n",
    "    print(\" the numner is even\")\n",
    "else :\n",
    "    print(\"the number is odd\")\n",
    "    "
   ]
  },
  {
   "cell_type": "code",
   "execution_count": 2,
   "id": "5b4372c8",
   "metadata": {},
   "outputs": [
    {
     "name": "stdout",
     "output_type": "stream",
     "text": [
      "basic salary: 50000\n",
      "HRA: 2500.0\n",
      "DA: 5000.0\n",
      "gross salary; 57500.0\n"
     ]
    }
   ],
   "source": [
    "# check the gross salary of an employee where the basic salary is 50,000 HRA is 5% of basic salary and DA is 10% of basic salary\n",
    "bs = 50000\n",
    "HRA = 2500.0\n",
    "DA = 0.1 * bs\n",
    "GS = bs + HRA + DA\n",
    "print(\"basic salary:\", bs)\n",
    "print(\"HRA:\", HRA)\n",
    "print(\"DA:\",DA)\n",
    "print(\"gross salary;\",GS)\n"
   ]
  },
  {
   "cell_type": "markdown",
   "id": "32f7bb85",
   "metadata": {},
   "source": [
    "- NESTED IF\n"
   ]
  },
  {
   "cell_type": "code",
   "execution_count": 5,
   "id": "5c53dc6a",
   "metadata": {},
   "outputs": [
    {
     "name": "stdout",
     "output_type": "stream",
     "text": [
      "registration successful\n"
     ]
    }
   ],
   "source": [
    "username = input(\"enter your username\")\n",
    "email = input(\"enter email\")\n",
    "password = input(\"enter password\")\n",
    "cpass = input(\"confirm your password\")\n",
    "if len(username)>=8 and len(username)<=20:\n",
    "    if '@' in email and len(email) >=8:\n",
    "        if len(password) >=10 and len(password) <= 20:\n",
    "            if password == cpass:\n",
    "                print(\"registration successful\")\n",
    "            else:\n",
    "                print(\"password mismatched\")\n",
    "        else:\n",
    "            print(\"password must be in between 10 and 20 characters\")\n",
    "    else:\n",
    "        print(\"invalid email\")\n",
    "else:\n",
    "    print(\"username must be between 8 and 20 characters\")"
   ]
  },
  {
   "cell_type": "code",
   "execution_count": null,
   "id": "505d36cd",
   "metadata": {},
   "outputs": [],
   "source": []
  }
 ],
 "metadata": {
  "kernelspec": {
   "display_name": "base",
   "language": "python",
   "name": "python3"
  },
  "language_info": {
   "codemirror_mode": {
    "name": "ipython",
    "version": 3
   },
   "file_extension": ".py",
   "mimetype": "text/x-python",
   "name": "python",
   "nbconvert_exporter": "python",
   "pygments_lexer": "ipython3",
   "version": "3.13.2"
  }
 },
 "nbformat": 4,
 "nbformat_minor": 5
}
